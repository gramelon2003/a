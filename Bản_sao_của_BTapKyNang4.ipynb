{
  "nbformat": 4,
  "nbformat_minor": 0,
  "metadata": {
    "colab": {
      "provenance": [],
      "collapsed_sections": [],
      "include_colab_link": true
    },
    "kernelspec": {
      "name": "python3",
      "display_name": "Python 3"
    },
    "language_info": {
      "name": "python"
    }
  },
  "cells": [
    {
      "cell_type": "markdown",
      "metadata": {
        "id": "view-in-github",
        "colab_type": "text"
      },
      "source": [
        "<a href=\"https://colab.research.google.com/github/gramelon2003/a/blob/master/B%E1%BA%A3n_sao_c%E1%BB%A7a_BTapKyNang4.ipynb\" target=\"_parent\"><img src=\"https://colab.research.google.com/assets/colab-badge.svg\" alt=\"Open In Colab\"/></a>"
      ]
    },
    {
      "cell_type": "markdown",
      "source": [
        "Hoàn thành xây dựng mô hình hồi quy k-fold CD.\n",
        "\n",
        "Lưu ý: Bài tập kỹ năng (BTKN) là những bài tập rất quan trọng, giúp các bạn hoàn thiện kỹ năng (skills) nghề nghiệp của mình. Vì vậy, tất cả hãy cố gắng hoàn tất các bài tập theo hướng dẫn của thầy."
      ],
      "metadata": {
        "id": "sk0Tcbjaderc"
      }
    },
    {
      "cell_type": "code",
      "source": [
        "import numpy as np\n",
        "import pandas as pd\n",
        "import os"
      ],
      "metadata": {
        "id": "MmlRQx8FcVig"
      },
      "execution_count": null,
      "outputs": []
    },
    {
      "cell_type": "code",
      "source": [
        "from google.colab import drive\n",
        "drive.mount('/content/drive')"
      ],
      "metadata": {
        "colab": {
          "base_uri": "https://localhost:8080/"
        },
        "id": "MxAXHMvzcy0M",
        "outputId": "c83440d5-0f70-4565-ba93-548f537c33a8"
      },
      "execution_count": null,
      "outputs": [
        {
          "output_type": "stream",
          "name": "stdout",
          "text": [
            "Drive already mounted at /content/drive; to attempt to forcibly remount, call drive.mount(\"/content/drive\", force_remount=True).\n"
          ]
        }
      ]
    },
    {
      "cell_type": "markdown",
      "source": [
        "Yêu cầu:"
      ],
      "metadata": {
        "id": "nMbDwKYe36Xk"
      }
    },
    {
      "cell_type": "markdown",
      "source": [
        "Quy trình xây dựng k-fold-validation\n",
        "- Bước 1: Đọc dữ liệu gốc D \n",
        "- Bước 2: Điều chỉnh dữ liệu \n",
        "- Bước 3: Chia train – test theo tỉ lệ (thông thường là 70% - 30%) \n",
        "- Bước 4: Xác định k \n",
        "- Bước 5: Thực hiện huấn luyên mô hình với k-fold cross validation \n",
        "- Bước 6: Kiểm định mô hình với tập dữ liệu test\n",
        "\n",
        "\n"
      ],
      "metadata": {
        "id": "IP0WbsQLbet8"
      }
    },
    {
      "cell_type": "markdown",
      "source": [
        "Khởi tạo mô hình"
      ],
      "metadata": {
        "id": "_CKqAMde38v3"
      }
    },
    {
      "cell_type": "code",
      "source": [
        "from scipy.optimize import minimize, rosen, rosen_der\n",
        "\n",
        "# Sklearn processing\n",
        "from sklearn.model_selection import train_test_split\n",
        "from sklearn.model_selection import KFold\n",
        "from sklearn.model_selection import cross_val_score\n",
        "from sklearn.model_selection import RepeatedStratifiedKFold\n",
        "from sklearn.preprocessing import MinMaxScaler\n",
        "from sklearn.preprocessing import StandardScaler\n",
        "from sklearn.preprocessing import LabelEncoder\n",
        "\n",
        "# Sklearn regression algorithms\n",
        "from sklearn.linear_model import LogisticRegression\n",
        "from sklearn.linear_model import LinearRegression\n",
        "from sklearn.neighbors import KNeighborsRegressor\n",
        "from sklearn.neighbors import KNeighborsClassifier\n",
        "from sklearn.tree import DecisionTreeRegressor\n",
        "\n",
        "# Sklearn regression model evaluation function\n",
        "from sklearn.metrics import mean_absolute_error\n",
        "from sklearn.metrics import mean_squared_error \n",
        "from sklearn.datasets import make_classification\n",
        "from sklearn.pipeline import make_pipeline"
      ],
      "metadata": {
        "id": "hAKmXG2IejQZ"
      },
      "execution_count": null,
      "outputs": []
    },
    {
      "cell_type": "code",
      "source": [
        "path = 'drive/MyDrive/datasets'"
      ],
      "metadata": {
        "id": "ixK8-mAgfFmE"
      },
      "execution_count": null,
      "outputs": []
    },
    {
      "cell_type": "markdown",
      "source": [
        "Load data"
      ],
      "metadata": {
        "id": "0WYmCMzQ4ARp"
      }
    },
    {
      "cell_type": "code",
      "source": [
        "data = np.loadtxt(os.path.join(path, \"ex1data2.txt\"),delimiter=\",\")"
      ],
      "metadata": {
        "id": "2aDhuPXRezNq"
      },
      "execution_count": null,
      "outputs": []
    },
    {
      "cell_type": "code",
      "source": [
        "print(f'Kích thước của tập dữ liệu: {data.shape}')\n",
        "print('Thực hiện MinMaxScaler')"
      ],
      "metadata": {
        "colab": {
          "base_uri": "https://localhost:8080/"
        },
        "id": "b-hzF7EAe3P0",
        "outputId": "7c975860-d60d-4ebb-f0a8-a8fd434801ce"
      },
      "execution_count": null,
      "outputs": [
        {
          "output_type": "stream",
          "name": "stdout",
          "text": [
            "Kích thước của tập dữ liệu: (47, 3)\n",
            "Thực hiện MinMaxScaler\n"
          ]
        }
      ]
    },
    {
      "cell_type": "markdown",
      "source": [
        "Khởi tạo bộ điều chỉnh dữ liệu"
      ],
      "metadata": {
        "id": "NCTqtj5y4GXl"
      }
    },
    {
      "cell_type": "code",
      "source": [
        "scaler = MinMaxScaler()"
      ],
      "metadata": {
        "id": "TfJ7SGxNk_7D"
      },
      "execution_count": null,
      "outputs": []
    },
    {
      "cell_type": "markdown",
      "source": [
        "Fit data"
      ],
      "metadata": {
        "id": "2NLpw3P74Rba"
      }
    },
    {
      "cell_type": "code",
      "source": [
        "scaler.fit(data)"
      ],
      "metadata": {
        "colab": {
          "base_uri": "https://localhost:8080/"
        },
        "id": "p1guePfSlf-o",
        "outputId": "edefd64e-e718-4701-df01-fc34cff96f09"
      },
      "execution_count": null,
      "outputs": [
        {
          "output_type": "execute_result",
          "data": {
            "text/plain": [
              "MinMaxScaler()"
            ]
          },
          "metadata": {},
          "execution_count": 65
        }
      ]
    },
    {
      "cell_type": "markdown",
      "source": [
        "Điều chỉnh dữ liệu"
      ],
      "metadata": {
        "id": "a6-S_zbg4Top"
      }
    },
    {
      "cell_type": "code",
      "source": [
        "D = scaler.transform(data)\n",
        "print('Lấy ra tập dữ liệu X, y')\n",
        "X, y = D[:,:-1], D[:, -1]\n",
        "print(f'Kích thước tập X: {X.shape}')\n",
        "print(f'Kích thước vector y: {y.shape}')"
      ],
      "metadata": {
        "colab": {
          "base_uri": "https://localhost:8080/"
        },
        "id": "6TTxSIEUlm8W",
        "outputId": "90d31250-7913-493c-f4d0-6d6a02b4a006"
      },
      "execution_count": null,
      "outputs": [
        {
          "output_type": "stream",
          "name": "stdout",
          "text": [
            "Lấy ra tập dữ liệu X, y\n",
            "Kích thước tập X: (47, 2)\n",
            "Kích thước vector y: (47,)\n"
          ]
        }
      ]
    },
    {
      "cell_type": "markdown",
      "source": [
        "Chia train-test"
      ],
      "metadata": {
        "id": "vl_aln-L4YTz"
      }
    },
    {
      "cell_type": "code",
      "source": [
        "X, y = data[:, :-1], data[:, -1]\n",
        "X_train, X_test, y_train, y_test = train_test_split(X, y, test_size=0.30,\n",
        "random_state=15)"
      ],
      "metadata": {
        "id": "iTOBkqPYmCQb"
      },
      "execution_count": null,
      "outputs": []
    },
    {
      "cell_type": "markdown",
      "source": [
        "Xác định k"
      ],
      "metadata": {
        "id": "_uLaB_m44bQB"
      }
    },
    {
      "cell_type": "code",
      "source": [
        "kf = KFold(n_splits=2)"
      ],
      "metadata": {
        "id": "imv_0WkDy4Ie"
      },
      "execution_count": null,
      "outputs": []
    },
    {
      "cell_type": "markdown",
      "source": [
        "Thực hiện huấn luyên mô hình với k-fold cross validation"
      ],
      "metadata": {
        "id": "sx12xirX4ht2"
      }
    },
    {
      "cell_type": "code",
      "source": [
        "print('Huấn luyện mô hình LinearRegression với k-fold')\n",
        "model = LinearRegression()\n",
        "step = 0\n",
        "for train2_index, val_index in kf.split(X = X_train,y = y_train):\n",
        "  step +=  1\n",
        "  print(f'Bước lặp huấn luyện thứ: {step}')\n",
        "  w_opt = np.zeros((X.shape[1], 1))\n",
        "  X_train2, X_val = X_train[train2_index], X_train[val_index]\n",
        "  y_train2, y_val = y_train[train2_index], y_train[val_index]\n",
        "  model.fit(X_train2, y_train2)\n",
        "  print('\\t\\tĐánh giá mô hình trên tập dữ liệu validation')\n",
        "  y_hat = model.predict(X_val)\n",
        "  print(f'\\t\\t\\tMSE: {mean_squared_error(y_val, y_hat)}')"
      ],
      "metadata": {
        "colab": {
          "base_uri": "https://localhost:8080/"
        },
        "id": "r6qRmGN5ppxd",
        "outputId": "1144034f-aef2-4ccf-d65d-e2c48195c346"
      },
      "execution_count": null,
      "outputs": [
        {
          "output_type": "stream",
          "name": "stdout",
          "text": [
            "Huấn luyện mô hình LinearRegression với k-fold\n",
            "Bước lặp huấn luyện thứ: 1\n",
            "\t\tĐánh giá mô hình trên tập dữ liệu validation\n",
            "\t\t\tMSE: 3928287629.6502223\n",
            "Bước lặp huấn luyện thứ: 2\n",
            "\t\tĐánh giá mô hình trên tập dữ liệu validation\n",
            "\t\t\tMSE: 5921642959.160242\n"
          ]
        }
      ]
    },
    {
      "cell_type": "markdown",
      "source": [
        "Kiểm định mô hình"
      ],
      "metadata": {
        "id": "VqGPFnNd4juj"
      }
    },
    {
      "cell_type": "code",
      "source": [
        "print('ĐÁNH GIÁ HIỆU NĂNG CỦA MÔ HÌNH TRÊN TẬP DỮ LIỆU TEST') \n",
        "y_hat = model.predict(X_test) \n",
        "print('\\tMSE: ', mean_squared_error(y_test, y_hat))"
      ],
      "metadata": {
        "colab": {
          "base_uri": "https://localhost:8080/"
        },
        "id": "H_Tb66_v0byk",
        "outputId": "78646690-108b-4cc7-b02b-4ef67f0e8cf8"
      },
      "execution_count": null,
      "outputs": [
        {
          "output_type": "stream",
          "name": "stdout",
          "text": [
            "ĐÁNH GIÁ HIỆU NĂNG CỦA MÔ HÌNH TRÊN TẬP DỮ LIỆU TEST\n",
            "\tMSE:  8381149472.312815\n"
          ]
        }
      ]
    },
    {
      "cell_type": "code",
      "source": [],
      "metadata": {
        "id": "7g3w8yhX03vm"
      },
      "execution_count": null,
      "outputs": []
    }
  ]
}