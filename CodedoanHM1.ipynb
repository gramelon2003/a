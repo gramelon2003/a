{
  "nbformat": 4,
  "nbformat_minor": 0,
  "metadata": {
    "colab": {
      "provenance": [],
      "authorship_tag": "ABX9TyOdzdt711TGDIXgx2e79BSl",
      "include_colab_link": true
    },
    "kernelspec": {
      "name": "python3",
      "display_name": "Python 3"
    },
    "language_info": {
      "name": "python"
    }
  },
  "cells": [
    {
      "cell_type": "markdown",
      "metadata": {
        "id": "view-in-github",
        "colab_type": "text"
      },
      "source": [
        "<a href=\"https://colab.research.google.com/github/gramelon2003/a/blob/master/CodedoanHM1.ipynb\" target=\"_parent\"><img src=\"https://colab.research.google.com/assets/colab-badge.svg\" alt=\"Open In Colab\"/></a>"
      ]
    },
    {
      "cell_type": "code",
      "execution_count": null,
      "metadata": {
        "id": "6N9F-S9ldczd"
      },
      "outputs": [],
      "source": [
        "import os,math\n",
        "import numpy as np\n",
        "import matplotlib.pyplot as plt\n",
        "from PIL import Image\n",
        "from sklearn.neighbors import KNeighborsRegressor,KNeighborsClassifier\n",
        "from sklearn.preprocessing import LabelBinarizer\n",
        "from skimage.transform import resize\n",
        "from skimage.color import rgb2gray\n",
        "from skimage import io\n",
        "from sklearn import preprocessing , metrics\n",
        "from sklearn.model_selection import train_test_split\n",
        "from sklearn.model_selection import GridSearchCV\n",
        "from sklearn.linear_model import LogisticRegressionCV,LogisticRegression\n",
        "from sklearn.metrics import\n",
        "precision_score,accuracy_score,recall_score,f1_score,precision_recall_curve,roc_auc_score,roc_curve\n",
        "\n",
        "def read_data(path):\n",
        "  X_cat=os.listdir(path[0])\n",
        "  X_dog=os.listdir(path[1])\n",
        "  y_cat=os.listdir(path[0])\n",
        "  y_dog=os.listdir(path[1])\n",
        "  X = []\n",
        "  X = X.append(X_cat)\n",
        "  X = X.append(X_dog)\n",
        "  y = []\n",
        "  y.append(y_cat)\n",
        "  y.append(y_dog)\n",
        "for i in range(len(X)):\n",
        "  try:\n",
        "    image = io.imread(os.path.join(path[0],X_meo[i]))\n",
        "    image = resize(image,(50,50),anti_aliasing=True)\n",
        "    gray = rgb2gray(image)\n",
        "    X.append(list(gray.flatten()))\n",
        "    y.append(y_meo[i])\n",
        "  except:\n",
        "    print(\"anh bi loi\",X[i])\n",
        "  return X,y\n",
        "\n",
        "def huan_luyen_du_lieu(X,y):\n",
        "  X=np.array(X)\n",
        "  y=np.array(y)\n",
        "  X_train, X_test, y_train, y_test = train_test_split(X, y, test_size=0.3,random_state=30)\n",
        "  return X_train, X_test, y_train, y_test\n",
        "def y_du_doan(X_train,y_train,X_test,y_test):\n",
        "  model = LogisticRegressionCV(cv=3, random_state=15).fit(X_test, y_test)\n",
        "  yhat = model.predict(X_test)\n",
        "  kNN = KNeighborsClassifier()\n",
        "  kNN.fit(X_train, y_train)\n",
        "  yhat_kNN = kNN.predict(X_test)\n",
        "  return yhat,yhat_kNN\n",
        "def hieu_nang_mo_hinh(y_test,yhatKNN,yhat):\n",
        "  accuricy_kNN=accuracy_score(yhatKNN, y_test)\n",
        "  precisionk_NN=precision_score(y_test, yhatKNN,average=\"macro\")\n",
        "  recall_kNN =recall_score(y_test, yhatKNN, average=&\"macro\")\n",
        "  f1_kNN= 2*(precisionKNN*recallKNN)/(precisionKNN+recallKNN)\n",
        "  accuricy=accuracy_score(yhat, y_test)\n",
        "  precision=precision_score(y_test, yhat,average=\"macro\")\n",
        "  recall =recall_score(y_test, yhat, average=\"macro\")\n",
        "  f1= 2*(precision*recall)/(precision+recall)\n",
        "  return accuricy_kNN,precision_kNN,recall_kNN,f1_kNN,accuricy,precision,recall,f1"
      ]
    }
  ]
}