{
  "nbformat": 4,
  "nbformat_minor": 0,
  "metadata": {
    "colab": {
      "provenance": [],
      "authorship_tag": "ABX9TyOcmnUfJfuX6SqWQUjzqttD",
      "include_colab_link": true
    },
    "kernelspec": {
      "name": "python3",
      "display_name": "Python 3"
    },
    "language_info": {
      "name": "python"
    }
  },
  "cells": [
    {
      "cell_type": "markdown",
      "metadata": {
        "id": "view-in-github",
        "colab_type": "text"
      },
      "source": [
        "<a href=\"https://colab.research.google.com/github/gramelon2003/a/blob/master/BTTL02.ipynb\" target=\"_parent\"><img src=\"https://colab.research.google.com/assets/colab-badge.svg\" alt=\"Open In Colab\"/></a>"
      ]
    },
    {
      "cell_type": "code",
      "execution_count": null,
      "metadata": {
        "id": "BQvcS4S4AeVQ"
      },
      "outputs": [],
      "source": [
        "import os\n",
        "import numpy as np\n",
        "from skimage import io\n",
        "from skimage.transform import resize\n",
        "from sklearn.preprocessing import LabelBinarizer\n",
        "from sklearn.model_selection import train_test_split\n",
        "from PIL import Image\n",
        "\n",
        "def check_corrupted_image(img_file):\n",
        "    try:\n",
        "        with Image.open(img_file) as img:\n",
        "            img.verify()\n",
        "            img_new = io.imread(img_file)\n",
        "        return False\n",
        "    except Exception as e:\n",
        "        print(e)\n",
        "        return True\n",
        "\n",
        "def read_img_data(path, label, size):\n",
        "    X = []\n",
        "    y = []\n",
        "    files = os.listdir(path)\n",
        "    for img_file in files:\n",
        "        if not(check_corrupted_image(os.path.join(path, img_file))):\n",
        "            img = io.imread(os.path.join(path, img_file), as_gray = True)\n",
        "            img = resize(img, size).flatten()\n",
        "            X.append(img)\n",
        "            y.append(label)\n",
        "    return X, y\n",
        "\n",
        "#hàm chuyển ảnh màn hình thành vector 1024\n",
        "def convert_D_2_vector(path,label,size):\n",
        "    labels = []\n",
        "    img_data = []\n",
        "    images = os.listdir(path)\n",
        "    for img_file in images:\n",
        "        if not(check_corrupted_image(os.path.join(path,img_file))):\n",
        "            img_grey = io.imread(os.path.join(path,img_file), as_grey = True)\n",
        "            img_vector = resize(img_grey,size).flatten\n",
        "            img_data.append(img_vector)\n",
        "            labels.append(label)\n",
        "    return img_data, labels\n",
        "\n",
        "#Hàm huấn luyện mô hình\n",
        "def kNN_grid_search_cv(x_train, y_train):\n",
        "  from math import sqrt\n",
        "  m = y_train.shape[0]\n",
        "  k_max = int(sqrt(m)/2)\n",
        "  k_values = np.arange(start = 1, stop = k_max + 1, dtype = int)\n",
        "  params = { 'n_neighbors': k_values}\n",
        "  kNN = KNeighborsClassifier()\n",
        "  kNN_grid = GridsearchCV(kNN, params, cv=3)\n",
        "  kNN_grid.fit(x_train, y_train)\n",
        "  return kNN_grid\n",
        "\n",
        "def logistic_regression_cv(x_train, y_train):\n",
        "    logistic_classifier = LogisticRegreesionCV(cv=5, solver=\"sag\", max_iter=2000)\n",
        "    logistuc_classifier.fit(X_train, y_train)\n",
        "    return logistic_classifier\n",
        "\n",
        "#Hàm đánh giá mô hình\n",
        "def evaluate_model(y_test, y_pred):\n",
        "  print(\"accuracy score: \", accuracy_score(y_test, y_pred))\n",
        "  print(\"Balandced accuracy score: \", balandced_accuracy_score(y_test, y_pred))\n",
        "  print(\"Haming loss: \", hamming_loss(y_test, y_pred))\n",
        "\n",
        "def confusion_matrix(y_test, y_pred, model, plt=None):\n",
        "  ax1 = sns.heatmap(confusion_matrix(y_test, y_pred), annot = True, fmt=\",of\", cmap=\"crest\"J\n",
        "  ax1.set(xlabel=\"y pred\", ylabel=\"y test\", title= model)\n",
        "  ax1.xaxis.tick_top()\n",
        "  plt.show\n",
        "\n",
        "def main():\n",
        "    X, y = read_img_data('D:/PetImages/Cat','Cat', (32,32))\n",
        "    X_dog, y_dog = read_img_data('D:/PetImages/Dog','Dog', (32,32))\n",
        "    X.extend(X_dog)\n",
        "    y.extend(y_dog)\n",
        "    X = np.array(X)\n",
        "    y = np.array(y)\n",
        "    y = LabelBinarizer().fit_transform(y)\n",
        "    X_train, X_test, y_train, y_test = train_test_split(X,  y, shuffle =True, random_state = 123)\n",
        "    print(X.shape)\n",
        "\n",
        "if _name_ == '_main_':\n",
        "    main()\n"
      ]
    }
  ]
}