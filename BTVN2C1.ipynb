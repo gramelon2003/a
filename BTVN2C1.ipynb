{
  "nbformat": 4,
  "nbformat_minor": 0,
  "metadata": {
    "colab": {
      "provenance": [],
      "authorship_tag": "ABX9TyNPuORIX5rUHEFV93v0mOIn",
      "include_colab_link": true
    },
    "kernelspec": {
      "name": "python3",
      "display_name": "Python 3"
    },
    "language_info": {
      "name": "python"
    }
  },
  "cells": [
    {
      "cell_type": "markdown",
      "metadata": {
        "id": "view-in-github",
        "colab_type": "text"
      },
      "source": [
        "<a href=\"https://colab.research.google.com/github/gramelon2003/a/blob/master/BTVN2C1.ipynb\" target=\"_parent\"><img src=\"https://colab.research.google.com/assets/colab-badge.svg\" alt=\"Open In Colab\"/></a>"
      ]
    },
    {
      "cell_type": "code",
      "execution_count": null,
      "metadata": {
        "id": "-o0JcxgdGfPR"
      },
      "outputs": [],
      "source": []
    },
    {
      "cell_type": "code",
      "source": [
        "import numpy as np"
      ],
      "metadata": {
        "id": "nTURuzqp19oq"
      },
      "execution_count": null,
      "outputs": []
    },
    {
      "cell_type": "code",
      "execution_count": null,
      "metadata": {
        "colab": {
          "base_uri": "https://localhost:8080/"
        },
        "id": "3ZofKTpe1qm-",
        "outputId": "c5f8f180-09ec-4ba1-9616-dedbf52754fb"
      },
      "outputs": [
        {
          "output_type": "stream",
          "name": "stdout",
          "text": [
            "[6 5 5 5]\n",
            "1\n",
            "(4,)\n"
          ]
        }
      ],
      "source": [
        "x=np.array([1,2,3,4])\n",
        "y=np.array([5,3,2,1])\n",
        "z=x+y\n",
        "print(z)\n",
        "print(z.ndim)\n",
        "print(z.shape)"
      ]
    },
    {
      "cell_type": "code",
      "source": [
        "x=np.arange(1,8,2)\n",
        "y=np.arange(10,14,1)\n",
        "print(x)\n",
        "print(y)\n",
        "print(z)\n",
        "print(z.ndim)\n",
        "print(z.shape)"
      ],
      "metadata": {
        "colab": {
          "base_uri": "https://localhost:8080/"
        },
        "id": "Ah3ljU4u66XA",
        "outputId": "0cbe17d6-5d41-491f-8898-0a5558ebc9ce"
      },
      "execution_count": null,
      "outputs": [
        {
          "output_type": "stream",
          "name": "stdout",
          "text": [
            "[1 3 5 7]\n",
            "[10 11 12 13]\n",
            "[6 5 5 5]\n",
            "1\n",
            "(4,)\n"
          ]
        }
      ]
    },
    {
      "cell_type": "code",
      "source": [
        "x=np.array([1,2,3,4])\n",
        "a = 15\n",
        "z = a*x\n",
        "print(z)\n",
        "print(z.ndim)\n",
        "print(z.shape)"
      ],
      "metadata": {
        "colab": {
          "base_uri": "https://localhost:8080/"
        },
        "id": "8Kl1ad3i2TK6",
        "outputId": "9a0ddaac-9e00-45da-84b3-b06cb303a1c3"
      },
      "execution_count": null,
      "outputs": [
        {
          "output_type": "stream",
          "name": "stdout",
          "text": [
            "[15 30 45 60]\n",
            "1\n",
            "(4,)\n"
          ]
        }
      ]
    },
    {
      "cell_type": "code",
      "source": [
        "x= np.arange(2,9,2)\n",
        "a=10\n",
        "print(x)\n",
        "z = a*x\n",
        "print(z)\n",
        "print(z.ndim)\n",
        "print(z.shape)"
      ],
      "metadata": {
        "colab": {
          "base_uri": "https://localhost:8080/"
        },
        "id": "8QN55VI_7OBu",
        "outputId": "bc5c4d3d-deb7-4c84-e3cc-9e22a038991e"
      },
      "execution_count": null,
      "outputs": [
        {
          "output_type": "stream",
          "name": "stdout",
          "text": [
            "[2 4 6 8]\n",
            "[20 40 60 80]\n",
            "1\n",
            "(4,)\n"
          ]
        }
      ]
    },
    {
      "cell_type": "code",
      "source": [
        "x = np.array([1,2,3,4])\n",
        "y = np.array([5,3,2,1])\n",
        "z = np.dot(x,y)\n",
        "print(z)\n",
        "print(z.ndim)\n",
        "print(z.shape)"
      ],
      "metadata": {
        "colab": {
          "base_uri": "https://localhost:8080/"
        },
        "id": "GGANffkY2dv5",
        "outputId": "3e076283-23b9-480c-e31c-b86ba67ca022"
      },
      "execution_count": null,
      "outputs": [
        {
          "output_type": "stream",
          "name": "stdout",
          "text": [
            "21\n",
            "0\n",
            "()\n"
          ]
        }
      ]
    },
    {
      "cell_type": "code",
      "source": [
        "x= np.arange(11,15,1)\n",
        "y= np.arange(3,7,1)\n",
        "z = np.dot(x,y)\n",
        "print(z)\n",
        "print(z.ndim)\n",
        "print(z.shape)"
      ],
      "metadata": {
        "colab": {
          "base_uri": "https://localhost:8080/"
        },
        "id": "iWTqIavC7jQ6",
        "outputId": "8c9e0486-c49b-443b-a280-92aaaa4c5733"
      },
      "execution_count": null,
      "outputs": [
        {
          "output_type": "stream",
          "name": "stdout",
          "text": [
            "230\n",
            "0\n",
            "()\n"
          ]
        }
      ]
    },
    {
      "cell_type": "code",
      "source": [
        "x = np.array([1,2,3])\n",
        "y = np.array([3,2,1])\n",
        "z = np.cross(x, y)\n",
        "print(z)\n",
        "print(z.ndim)\n",
        "print(z.shape)"
      ],
      "metadata": {
        "colab": {
          "base_uri": "https://localhost:8080/"
        },
        "id": "o_G8ndCD2pYy",
        "outputId": "1af41774-cf16-47d4-a55b-5a3e856ee237"
      },
      "execution_count": null,
      "outputs": [
        {
          "output_type": "stream",
          "name": "stdout",
          "text": [
            "[-4  8 -4]\n",
            "1\n",
            "(3,)\n"
          ]
        }
      ]
    },
    {
      "cell_type": "code",
      "source": [
        "x= np.arange(3,6,1)\n",
        "y= np.arange(13,16,1)\n",
        "z = np.cross(x, y)\n",
        "print(z)\n",
        "print(z.ndim)\n",
        "print(z.shape)"
      ],
      "metadata": {
        "colab": {
          "base_uri": "https://localhost:8080/"
        },
        "id": "MB789K4J74WI",
        "outputId": "668bb2a9-04fb-4792-8872-0ad737e8711f"
      },
      "execution_count": null,
      "outputs": [
        {
          "output_type": "stream",
          "name": "stdout",
          "text": [
            "[-10  20 -10]\n",
            "1\n",
            "(3,)\n"
          ]
        }
      ]
    },
    {
      "cell_type": "code",
      "source": [
        "x = np.array([1,2,3,4])\n",
        "y = np.array([5,3,2,1])\n",
        "z = x*y \n",
        "print(z)\n",
        "print(z.ndim)\n",
        "print(z.shape)"
      ],
      "metadata": {
        "colab": {
          "base_uri": "https://localhost:8080/"
        },
        "id": "bW9276fE2xkP",
        "outputId": "97302474-ab0f-4442-c713-f91e0bc24781"
      },
      "execution_count": null,
      "outputs": [
        {
          "output_type": "stream",
          "name": "stdout",
          "text": [
            "[5 6 6 4]\n",
            "1\n",
            "(4,)\n"
          ]
        }
      ]
    },
    {
      "cell_type": "code",
      "source": [
        "x=np.random.randint(8, size=4)\n",
        "y=np.random.randint(8, size=4)\n",
        "z = x*y \n",
        "print(z)\n",
        "print(z.ndim)\n",
        "print(z.shape)"
      ],
      "metadata": {
        "colab": {
          "base_uri": "https://localhost:8080/"
        },
        "id": "HNnEz_UD8EdO",
        "outputId": "ce88bc6a-c56e-464d-87c9-885dd5bcd93e"
      },
      "execution_count": null,
      "outputs": [
        {
          "output_type": "stream",
          "name": "stdout",
          "text": [
            "[ 0 28  7  2]\n",
            "1\n",
            "(4,)\n"
          ]
        }
      ]
    },
    {
      "cell_type": "code",
      "source": [
        "X = np.array([1,2,3,4,5,6]).reshape((2,3))\n",
        "Y = np.array([6,5,4,3,2,1]).reshape((2,3))\n",
        "Z = X + Y\n",
        "print(Z)\n",
        "print(Z.ndim, '; ', Z.shape)"
      ],
      "metadata": {
        "colab": {
          "base_uri": "https://localhost:8080/"
        },
        "id": "KlCtMshG25SX",
        "outputId": "c7664a73-b2f5-492e-dede-6760e69e8a31"
      },
      "execution_count": null,
      "outputs": [
        {
          "output_type": "stream",
          "name": "stdout",
          "text": [
            "[[7 7 7]\n",
            " [7 7 7]]\n",
            "2 ;  (2, 3)\n"
          ]
        }
      ]
    },
    {
      "cell_type": "code",
      "source": [
        "x=np.random.randint(8, size=4)\n",
        "y=np.random.randint(8, size=4)\n",
        "Z = x + y\n",
        "print(Z)\n",
        "print(Z.ndim, '; ', Z.shape)"
      ],
      "metadata": {
        "colab": {
          "base_uri": "https://localhost:8080/"
        },
        "id": "fTIMvbe084_Q",
        "outputId": "066d8887-5644-4fd2-f9ca-880185aa5502"
      },
      "execution_count": null,
      "outputs": [
        {
          "output_type": "stream",
          "name": "stdout",
          "text": [
            "[5 2 4 7]\n",
            "1 ;  (4,)\n"
          ]
        }
      ]
    },
    {
      "cell_type": "code",
      "source": [
        "X = np.array([1,2,3,4,5,6]).reshape((2,3))\n",
        "a = 2\n",
        "Z = a*X\n",
        "print(Z)\n",
        "print(Z.ndim, '; ', Z.shape)"
      ],
      "metadata": {
        "colab": {
          "base_uri": "https://localhost:8080/"
        },
        "id": "4Xs4jL7t2_wq",
        "outputId": "86d7d435-f85c-4675-dc02-3a31e785b2d0"
      },
      "execution_count": null,
      "outputs": [
        {
          "output_type": "stream",
          "name": "stdout",
          "text": [
            "[[ 2  4  6]\n",
            " [ 8 10 12]]\n",
            "2 ;  (2, 3)\n"
          ]
        }
      ]
    },
    {
      "cell_type": "code",
      "source": [
        "x=np.random.randint(8, size=4)\n",
        "a = np.random.randint(10)\n",
        "Z = a*x\n",
        "print(Z)\n",
        "print(Z.ndim, '; ', Z.shape)"
      ],
      "metadata": {
        "colab": {
          "base_uri": "https://localhost:8080/"
        },
        "id": "6HC1LnCt9A89",
        "outputId": "c9d099fa-7cc1-4119-ffd1-fe4625fed89e"
      },
      "execution_count": null,
      "outputs": [
        {
          "output_type": "stream",
          "name": "stdout",
          "text": [
            "[ 8 48 56  8]\n",
            "1 ;  (4,)\n"
          ]
        }
      ]
    },
    {
      "cell_type": "code",
      "source": [
        "X = np.array([1,2,3,4,5,6]).reshape((2,3))\n",
        "Z = X.T\n",
        "print(Z)\n",
        "print(Z.ndim, '; ', Z.shape)"
      ],
      "metadata": {
        "colab": {
          "base_uri": "https://localhost:8080/"
        },
        "id": "CvDJcPxU3HF7",
        "outputId": "1a3ad8b3-6281-47ec-d9bc-d6e7714363d9"
      },
      "execution_count": null,
      "outputs": [
        {
          "output_type": "stream",
          "name": "stdout",
          "text": [
            "[[1 4]\n",
            " [2 5]\n",
            " [3 6]]\n",
            "2 ;  (3, 2)\n"
          ]
        }
      ]
    },
    {
      "cell_type": "code",
      "source": [
        "x=np.random.randint(8, size=4).T\n",
        "print(x)\n",
        "print(x.ndim, '; ', x.shape)"
      ],
      "metadata": {
        "colab": {
          "base_uri": "https://localhost:8080/"
        },
        "id": "p8uauNQD9hXs",
        "outputId": "7561f307-3ca2-4a01-c529-df66a49e9ca6"
      },
      "execution_count": null,
      "outputs": [
        {
          "output_type": "stream",
          "name": "stdout",
          "text": [
            "[6 7 4 5]\n",
            "1 ;  (4,)\n"
          ]
        }
      ]
    },
    {
      "cell_type": "code",
      "source": [
        "X = np.array([1,2,3,4,5,6]).reshape((2,3))\n",
        "Y = np.array([6,5,4,3,2,1]).reshape((3,2))\n",
        "Z = np.dot(X,Y)\n",
        "print(Z)\n",
        "print(Z.ndim, '; ', Z.shape)"
      ],
      "metadata": {
        "colab": {
          "base_uri": "https://localhost:8080/"
        },
        "id": "PY7DJKGz3ObB",
        "outputId": "ea52a69b-58ae-471a-9a0f-f39909886c96"
      },
      "execution_count": null,
      "outputs": [
        {
          "output_type": "stream",
          "name": "stdout",
          "text": [
            "[[20 14]\n",
            " [56 41]]\n",
            "2 ;  (2, 2)\n"
          ]
        }
      ]
    },
    {
      "cell_type": "code",
      "source": [
        "x=np.random.randint(8, size=4)\n",
        "y=np.random.randint(8, size=4)\n",
        "Z = np.dot(x,y)\n",
        "print(Z)\n",
        "print(Z.ndim, '; ', Z.shape)"
      ],
      "metadata": {
        "colab": {
          "base_uri": "https://localhost:8080/"
        },
        "id": "kNyOCWET9pWV",
        "outputId": "1a0e974d-9dd5-40fc-f20a-8f62b2669dfe"
      },
      "execution_count": null,
      "outputs": [
        {
          "output_type": "stream",
          "name": "stdout",
          "text": [
            "45\n",
            "0 ;  ()\n"
          ]
        }
      ]
    },
    {
      "cell_type": "code",
      "source": [
        "X = np.array([1,2,3,4,5,6]).reshape((2,3))\n",
        "Y = np.array([6,5,4,3,2,1]).reshape((2,3))\n",
        "Z = np.multiply(X,Y) #hoặc Z = X*Y\n",
        "print(Z)\n",
        "print(Z.ndim, '; ', Z.shape)"
      ],
      "metadata": {
        "colab": {
          "base_uri": "https://localhost:8080/"
        },
        "id": "nYHIUQ5J3UQb",
        "outputId": "8f309a44-7495-4861-a208-8e2384cec503"
      },
      "execution_count": null,
      "outputs": [
        {
          "output_type": "stream",
          "name": "stdout",
          "text": [
            "[[ 6 10 12]\n",
            " [12 10  6]]\n",
            "2 ;  (2, 3)\n"
          ]
        }
      ]
    },
    {
      "cell_type": "code",
      "source": [
        "x=np.random.randint(8, size=4)\n",
        "y=np.random.randint(8, size=4)\n",
        "Z = x*y\n",
        "print(Z)\n",
        "print(Z.ndim, '; ', Z.shape)"
      ],
      "metadata": {
        "colab": {
          "base_uri": "https://localhost:8080/"
        },
        "id": "c5uT_1ql91ek",
        "outputId": "d0353f8d-d744-4f0b-c88d-9354ef6f8ffe"
      },
      "execution_count": null,
      "outputs": [
        {
          "output_type": "stream",
          "name": "stdout",
          "text": [
            "[ 0 49 21  0]\n",
            "1 ;  (4,)\n"
          ]
        }
      ]
    },
    {
      "cell_type": "code",
      "source": [
        "x = np.array([1,2,3,4,5]).reshape((5,1))\n",
        "print(x)\n",
        "print(x.ndim, '; ', x.shape)"
      ],
      "metadata": {
        "colab": {
          "base_uri": "https://localhost:8080/"
        },
        "id": "16sAca8w3bYc",
        "outputId": "feb79aa3-ce2b-4514-eb32-9d698335b8b6"
      },
      "execution_count": null,
      "outputs": [
        {
          "output_type": "stream",
          "name": "stdout",
          "text": [
            "[[1]\n",
            " [2]\n",
            " [3]\n",
            " [4]\n",
            " [5]]\n",
            "2 ;  (5, 1)\n"
          ]
        }
      ]
    },
    {
      "cell_type": "code",
      "source": [
        "y=np.random.randint(8, size=4)\n",
        "n=len(y)\n",
        "print(y.reshape(n,1))\n",
        "print(y.ndim, '; ', y.shape)"
      ],
      "metadata": {
        "colab": {
          "base_uri": "https://localhost:8080/"
        },
        "id": "Frkcd7_a9-y0",
        "outputId": "eec9dea0-953b-431d-fa9e-05ae862f7a7b"
      },
      "execution_count": null,
      "outputs": [
        {
          "output_type": "stream",
          "name": "stdout",
          "text": [
            "[[7]\n",
            " [5]\n",
            " [3]\n",
            " [5]]\n",
            "1 ;  (4,)\n"
          ]
        }
      ]
    },
    {
      "cell_type": "code",
      "source": [
        "X = np.array([1,2,3,4,5,6]).reshape((2,3))\n",
        "m = X.shape[0]\n",
        "n = X.shape[1]\n",
        "print('m = ', m, '; n = ', n)\n",
        "x = X[0, :]\n",
        "print(x)\n",
        "print(x.ndim, '; ', x.shape)\n",
        "x = x.reshape((1,n))\n",
        "print(x)\n",
        "print(x.ndim, '; ', x.shape)"
      ],
      "metadata": {
        "colab": {
          "base_uri": "https://localhost:8080/"
        },
        "id": "yCMo1t413m1U",
        "outputId": "496f7279-d3ed-45cd-c412-081818f8e341"
      },
      "execution_count": null,
      "outputs": [
        {
          "output_type": "stream",
          "name": "stdout",
          "text": [
            "m =  2 ; n =  3\n",
            "[1 2 3]\n",
            "1 ;  (3,)\n",
            "[[1 2 3]]\n",
            "2 ;  (1, 3)\n"
          ]
        }
      ]
    },
    {
      "cell_type": "code",
      "source": [
        "y=np.random.randint(10, size=9)\n",
        "n=len(y)\n",
        "x=y.reshape(n-6,3)\n",
        "#print(x)\n",
        "y1=x[:,0]\n",
        "print(y1)\n",
        "k=len(y1)\n",
        "print(y1.reshape(1,k))\n",
        "print(y1.ndim, '; ', y1.shape)\n"
      ],
      "metadata": {
        "colab": {
          "base_uri": "https://localhost:8080/"
        },
        "id": "tAzAiLhB-mD1",
        "outputId": "5621dbe6-c564-499e-8bff-b870307445e4"
      },
      "execution_count": null,
      "outputs": [
        {
          "output_type": "stream",
          "name": "stdout",
          "text": [
            "[8 5 6]\n",
            "[[8 5 6]]\n",
            "1 ;  (3,)\n"
          ]
        }
      ]
    },
    {
      "cell_type": "code",
      "source": [
        "X = np.array([1,2,3,4,5,6]).reshape((2,3))\n",
        "m = X.shape[0]\n",
        "n = X.shape[1]\n",
        "print('m = ', m, '; n = ', n)\n",
        "x = X[:,1]\n",
        "print(x)\n",
        "print(x.ndim, '; ', x.shape)\n",
        "x = x.reshape((m,1))\n",
        "print(x)\n",
        "print(x.ndim, '; ', x.shape)"
      ],
      "metadata": {
        "colab": {
          "base_uri": "https://localhost:8080/"
        },
        "id": "VQyjylZu3teK",
        "outputId": "6f177a28-8872-44e6-ccc8-72ecbc0d4590"
      },
      "execution_count": null,
      "outputs": [
        {
          "output_type": "stream",
          "name": "stdout",
          "text": [
            "m =  2 ; n =  3\n",
            "[2 5]\n",
            "1 ;  (2,)\n",
            "[[2]\n",
            " [5]]\n",
            "2 ;  (2, 1)\n"
          ]
        }
      ]
    },
    {
      "cell_type": "code",
      "source": [
        "y=np.random.randint(10, size=12)\n",
        "y=y.reshape(4,3)\n",
        "y=y[:,1]\n",
        "#print(y)\n",
        "m=len(y)\n",
        "print(y.reshape(m,1))"
      ],
      "metadata": {
        "colab": {
          "base_uri": "https://localhost:8080/"
        },
        "id": "O8oUeOJR_4WE",
        "outputId": "40d926c7-6741-4216-e422-0bfaf717cb09"
      },
      "execution_count": null,
      "outputs": [
        {
          "output_type": "stream",
          "name": "stdout",
          "text": [
            "[[2]\n",
            " [8]\n",
            " [2]\n",
            " [4]]\n"
          ]
        }
      ]
    },
    {
      "cell_type": "code",
      "source": [
        "X =np.array([1,2,3,4,5,6,7,8,9,10,11,12]).reshape((4,3))\n",
        "x = np.array([1,1,1,1]).reshape((4,1))\n",
        "X = np.column_stack([x,X])\n",
        "print(X)\n",
        "print(X.ndim, '; ', X.shape)"
      ],
      "metadata": {
        "colab": {
          "base_uri": "https://localhost:8080/"
        },
        "id": "IjqiSl_D34Ry",
        "outputId": "1e0ac8ec-4db6-4346-e809-fe1e53f39502"
      },
      "execution_count": null,
      "outputs": [
        {
          "output_type": "stream",
          "name": "stdout",
          "text": [
            "[[ 1  1  2  3]\n",
            " [ 1  4  5  6]\n",
            " [ 1  7  8  9]\n",
            " [ 1 10 11 12]]\n",
            "2 ;  (4, 4)\n"
          ]
        }
      ]
    },
    {
      "cell_type": "code",
      "source": [
        "a=np.ones((4,), dtype=int)\n",
        "#print(a)\n",
        "y=np.random.randint(10, size=12).reshape(4,3)\n",
        "x=np.column_stack([a,y])\n",
        "print(x)"
      ],
      "metadata": {
        "colab": {
          "base_uri": "https://localhost:8080/"
        },
        "id": "dWsu8rb_A_Ku",
        "outputId": "27c857e1-c5ec-4310-ecf5-9ec0b3ee79b1"
      },
      "execution_count": null,
      "outputs": [
        {
          "output_type": "stream",
          "name": "stdout",
          "text": [
            "[[1 0 3 9]\n",
            " [1 4 5 7]\n",
            " [1 4 2 8]\n",
            " [1 3 4 5]]\n"
          ]
        }
      ]
    },
    {
      "cell_type": "code",
      "source": [
        "data = np.array([[10,22,13,1],\n",
        "[9,6,5,0],\n",
        "[8,12,4,1],\n",
        "[6,5,7,0]])\n",
        "X = data[:,:-1]\n",
        "y = data[:,-1].reshape((data.shape[0], 1))\n",
        "print(X)\n",
        "print(X.ndim, '; ', X.shape)\n",
        "print(y)\n",
        "print(y.ndim, '; ', y.shape)"
      ],
      "metadata": {
        "colab": {
          "base_uri": "https://localhost:8080/"
        },
        "id": "btl-l8c24Bwi",
        "outputId": "cf54f7d7-1263-4d87-9d8b-22465356a968"
      },
      "execution_count": null,
      "outputs": [
        {
          "output_type": "stream",
          "name": "stdout",
          "text": [
            "[[10 22 13]\n",
            " [ 9  6  5]\n",
            " [ 8 12  4]\n",
            " [ 6  5  7]]\n",
            "2 ;  (4, 3)\n",
            "[[1]\n",
            " [0]\n",
            " [1]\n",
            " [0]]\n",
            "2 ;  (4, 1)\n"
          ]
        }
      ]
    },
    {
      "cell_type": "code",
      "source": [
        "y=np.random.randint(10, size=12).reshape(4,3)\n",
        "print(y)\n",
        "x=y[:, 0].reshape(4,1)\n",
        "print(x)\n",
        "print(x.ndim, '; ', x.shape)\n",
        "x1=y[:,-1].reshape(4,1)\n",
        "print(x1)\n",
        "print(x1.ndim, '; ', x1.shape)\n"
      ],
      "metadata": {
        "colab": {
          "base_uri": "https://localhost:8080/"
        },
        "id": "9MWimsefCKf4",
        "outputId": "14e0dd73-f757-473a-8df5-af252ff548cf"
      },
      "execution_count": null,
      "outputs": [
        {
          "output_type": "stream",
          "name": "stdout",
          "text": [
            "[[5 4 8]\n",
            " [9 0 3]\n",
            " [7 4 0]\n",
            " [5 6 2]]\n",
            "[[5]\n",
            " [9]\n",
            " [7]\n",
            " [5]]\n",
            "2 ;  (4, 1)\n",
            "[[8]\n",
            " [3]\n",
            " [0]\n",
            " [2]]\n",
            "2 ;  (4, 1)\n"
          ]
        }
      ]
    },
    {
      "cell_type": "code",
      "source": [
        "data = np.array([[10,22,13,1],\n",
        "[9,6,5,0],\n",
        "[8,12,4,1],\n",
        "[6,5,7,0]])\n",
        "X = data[:,:-1]\n",
        "y = data[:,-1].reshape((data.shape[0], 1))\n",
        "print(X)\n",
        "print(X.ndim, '; ', X.shape)\n",
        "print(y)\n",
        "print(y.ndim, '; ', y.shape)"
      ],
      "metadata": {
        "colab": {
          "base_uri": "https://localhost:8080/"
        },
        "id": "etzqWB_k4I-L",
        "outputId": "57723ee8-dbde-4588-d9e5-3e7ed54aff90"
      },
      "execution_count": null,
      "outputs": [
        {
          "output_type": "stream",
          "name": "stdout",
          "text": [
            "[[10 22 13]\n",
            " [ 9  6  5]\n",
            " [ 8 12  4]\n",
            " [ 6  5  7]]\n",
            "2 ;  (4, 3)\n",
            "[[1]\n",
            " [0]\n",
            " [1]\n",
            " [0]]\n",
            "2 ;  (4, 1)\n"
          ]
        }
      ]
    },
    {
      "cell_type": "code",
      "source": [
        "y=np.random.randint(10, size=12).reshape(3,4)\n",
        "print(y)\n",
        "print(y.ndim, '; ', y.shape)\n",
        "y1=y[:,-1].reshape(3,1)\n",
        "print(y1)\n",
        "print(y1.ndim, '; ', y1.shape)"
      ],
      "metadata": {
        "colab": {
          "base_uri": "https://localhost:8080/"
        },
        "id": "pGmnMzGrD7Yo",
        "outputId": "e41a2e59-0595-4ffe-f9a8-a60f5f0f6134"
      },
      "execution_count": null,
      "outputs": [
        {
          "output_type": "stream",
          "name": "stdout",
          "text": [
            "[[0 7 2 0]\n",
            " [6 8 9 3]\n",
            " [8 5 9 8]]\n",
            "2 ;  (3, 4)\n",
            "[[0]\n",
            " [3]\n",
            " [8]]\n",
            "2 ;  (3, 1)\n"
          ]
        }
      ]
    },
    {
      "cell_type": "code",
      "source": [
        "import numpy as np\n",
        "m=2\n",
        "n=2\n",
        "k=3\n",
        "T = np.random.randint(low=-5,\n",
        "high=5,size=m*n*k).reshape(k,m,n)\n",
        "print(T)"
      ],
      "metadata": {
        "colab": {
          "base_uri": "https://localhost:8080/"
        },
        "id": "ilTAk8lg4kwR",
        "outputId": "545bba77-49e1-4d4e-f4d6-b5f81fe0658c"
      },
      "execution_count": null,
      "outputs": [
        {
          "output_type": "stream",
          "name": "stdout",
          "text": [
            "[[[-3  0]\n",
            "  [-2 -5]]\n",
            "\n",
            " [[ 4  4]\n",
            "  [-1  0]]\n",
            "\n",
            " [[-4 -2]\n",
            "  [-1  1]]]\n"
          ]
        }
      ]
    },
    {
      "cell_type": "code",
      "source": [
        "m=2\n",
        "n=2\n",
        "k=3\n",
        "t1 = np.random.randint(low=-5,high=5,size=m*n*k).reshape(k,m,n)\n",
        "t2 = np.random.randint(low=-5,high=5,size=m*n*k).reshape(k,m,n)\n",
        "t3 = np.random.randint(low=-5,high=5,size=m*n*k).reshape(k,m,n)\n",
        "t4 = np.random.randint(low=-5,high=5,size=m*n*k).reshape(k,m,n)\n",
        "T = np.stack((t1, t2, t3, t4), axis=-1)\n",
        "print(T)\n",
        "print(T.shape)\n",
        "x = T[:,:,:,0]\n",
        "print(x)\n",
        "m1 = x[0,:,:]\n",
        "print(m1)\n",
        "print(m1.shape)"
      ],
      "metadata": {
        "colab": {
          "base_uri": "https://localhost:8080/"
        },
        "id": "eZW0UqjK4sXR",
        "outputId": "56ad4fcc-c3a5-4793-f2cb-69750ebda434"
      },
      "execution_count": null,
      "outputs": [
        {
          "output_type": "stream",
          "name": "stdout",
          "text": [
            "[[[[-4  4 -5 -3]\n",
            "   [ 0 -1 -3 -4]]\n",
            "\n",
            "  [[ 2  1  4 -5]\n",
            "   [-5 -1  2 -2]]]\n",
            "\n",
            "\n",
            " [[[ 2 -2 -3  0]\n",
            "   [-5 -1 -5 -4]]\n",
            "\n",
            "  [[-3 -4 -2  1]\n",
            "   [ 4 -5  3  3]]]\n",
            "\n",
            "\n",
            " [[[-4 -1 -3 -3]\n",
            "   [-5 -4 -1  2]]\n",
            "\n",
            "  [[ 3 -5  4  3]\n",
            "   [ 2 -2  1 -5]]]]\n",
            "(3, 2, 2, 4)\n",
            "[[[-4  0]\n",
            "  [ 2 -5]]\n",
            "\n",
            " [[ 2 -5]\n",
            "  [-3  4]]\n",
            "\n",
            " [[-4 -5]\n",
            "  [ 3  2]]]\n",
            "[[-4  0]\n",
            " [ 2 -5]]\n",
            "(2, 2)\n"
          ]
        }
      ]
    },
    {
      "cell_type": "code",
      "source": [
        "T1 = np.random.randint(10, size=(2, 2,3)).reshape(3,2,2)\n",
        "T2 = np.random.randint(10, size=(2, 2,3)).reshape(3,2,2)\n",
        "T=np.column_stack((T1,T2)).reshape(3,2,2,2)\n",
        "print(T)\n",
        "print(T.shape)"
      ],
      "metadata": {
        "colab": {
          "base_uri": "https://localhost:8080/"
        },
        "id": "vfMZXoMkFgr-",
        "outputId": "436ed79f-56aa-4439-ede0-86bb76ec4971"
      },
      "execution_count": null,
      "outputs": [
        {
          "output_type": "stream",
          "name": "stdout",
          "text": [
            "[[[[5 0]\n",
            "   [2 7]]\n",
            "\n",
            "  [[2 4]\n",
            "   [1 6]]]\n",
            "\n",
            "\n",
            " [[[4 1]\n",
            "   [0 9]]\n",
            "\n",
            "  [[3 7]\n",
            "   [9 0]]]\n",
            "\n",
            "\n",
            " [[[2 8]\n",
            "   [5 3]]\n",
            "\n",
            "  [[1 3]\n",
            "   [6 4]]]]\n",
            "(3, 2, 2, 2)\n"
          ]
        }
      ]
    }
  ]
}