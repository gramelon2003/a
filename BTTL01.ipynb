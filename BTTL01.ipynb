{
  "nbformat": 4,
  "nbformat_minor": 0,
  "metadata": {
    "colab": {
      "provenance": [],
      "authorship_tag": "ABX9TyOL4eOAxC3UkCGBbwuZFtmU",
      "include_colab_link": true
    },
    "kernelspec": {
      "name": "python3",
      "display_name": "Python 3"
    },
    "language_info": {
      "name": "python"
    }
  },
  "cells": [
    {
      "cell_type": "markdown",
      "metadata": {
        "id": "view-in-github",
        "colab_type": "text"
      },
      "source": [
        "<a href=\"https://colab.research.google.com/github/gramelon2003/a/blob/master/BTTL01.ipynb\" target=\"_parent\"><img src=\"https://colab.research.google.com/assets/colab-badge.svg\" alt=\"Open In Colab\"/></a>"
      ]
    },
    {
      "cell_type": "code",
      "execution_count": null,
      "metadata": {
        "id": "HfUdWvk5VqP0"
      },
      "outputs": [],
      "source": [
        "import os\n",
        "import numpy as np\n",
        "from skimage import io\n",
        "from skimage.transform import resize\n",
        "from sklearn.preprocessing import LabelBinarizer\n",
        "from sklearn.model_selection import train_test_split\n",
        "from PIL import Image\n",
        "\n",
        "\n",
        "def check_corrupted_image(img_file):\n",
        "    try:\n",
        "        with Image.open(img_file) as img:\n",
        "            img.verify()\n",
        "            img_new = io.imread(img_file)\n",
        "        return False\n",
        "    except Exception as e:\n",
        "        print(e)\n",
        "        return True\n",
        "\n",
        "\n",
        "def read_img_data(path, size):\n",
        "    X = []\n",
        "    files = os.listdir(path)\n",
        "    for img_file in files:\n",
        "        if not (check_corrupted_file(os.path.join(path, img_file))):\n",
        "            img = io.imread(os.path.join(path, img_file), as_grey=True)\n",
        "            img = resize(img, size).flatten()\n",
        "            X.append(img)\n",
        "\n",
        "\n",
        "def read_img_data(path, label, size):\n",
        "    X = []\n",
        "    y = []\n",
        "    files = os.listdir(path)\n",
        "    for img_file in files:\n",
        "        if not (check_corrupted_image(os.path.join(path, img_file))):\n",
        "            img = io.imread(os.path.join(path, img_file), as_gray=True)\n",
        "            img = resize(img, size).flatten()\n",
        "            X.append(img)\n",
        "            y.append(label)\n",
        "    return X, y\n",
        "\n",
        "\n",
        "def main():\n",
        "    X, y = read_img_data(\"D:/test1\", 'dog', (32, 32))\n",
        "    X_dog, y_dog = read_img_data(\"D:/train/train\", 'cat', (32, 32))\n",
        "    X.extend(X_dog)\n",
        "    y.extend(y_dog)\n",
        "    X = np.array(X)\n",
        "    y = np.array(y)\n",
        "    y = LabelBinarizer().fit_transform(y)\n",
        "    X_train, X_test, y_train, y_test = train_test_split(X, y, shuffle=True, random_state=123)\n",
        "    print(X.shape)\n",
        "if _name_ == \"_main_\":\n",
        "    main()"
      ]
    }
  ]
}