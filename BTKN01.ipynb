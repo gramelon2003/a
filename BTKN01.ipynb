{
  "nbformat": 4,
  "nbformat_minor": 0,
  "metadata": {
    "colab": {
      "provenance": [],
      "include_colab_link": true
    },
    "kernelspec": {
      "name": "python3",
      "display_name": "Python 3"
    },
    "language_info": {
      "name": "python"
    }
  },
  "cells": [
    {
      "cell_type": "markdown",
      "metadata": {
        "id": "view-in-github",
        "colab_type": "text"
      },
      "source": [
        "<a href=\"https://colab.research.google.com/github/gramelon2003/a/blob/master/BTKN01.ipynb\" target=\"_parent\"><img src=\"https://colab.research.google.com/assets/colab-badge.svg\" alt=\"Open In Colab\"/></a>"
      ]
    },
    {
      "cell_type": "code",
      "source": [
        "import numpy as np\n",
        "from sklearn.model_selection import train_test_split"
      ],
      "metadata": {
        "id": "iyEnRgXveToT"
      },
      "execution_count": null,
      "outputs": []
    },
    {
      "cell_type": "code",
      "source": [
        "def readData(filePath: str, filename: str):\n",
        "    data = np.loadtxt(os.path.join(filePath, filename), delimiter = ',')\n",
        "    X = data[:,:-1]\n",
        "    y = data[:, -1]\n",
        "    m = X.shape[0]\n",
        "    n = X.shape[1]\n",
        "    X = np.reshape(X, (m,n))\n",
        "  return data"
      ],
      "metadata": {
        "id": "x_3KizVId77W"
      },
      "execution_count": null,
      "outputs": []
    },
    {
      "cell_type": "code",
      "source": [
        "def train_test_split(data: str):\n",
        "  X_train, X_test, y_train, y_test = train_test_split(X, y, test_size=0.33, random_state=42)\n",
        "  return X_train, X_test, y_train, y_test"
      ],
      "metadata": {
        "id": "pxPCA0O0eAEt"
      },
      "execution_count": null,
      "outputs": []
    },
    {
      "cell_type": "code",
      "execution_count": null,
      "metadata": {
        "id": "2QKvYCyJd664"
      },
      "outputs": [],
      "source": [
        "def main():\n",
        "    X, y = readData('C:/Users/Admin/Downloads/hocmay', 'ex2data1.txt')\n",
        "    X = normalizeData(X)\n",
        "    X_train, X_test, y_train, y_test = train_test_split(X)\n",
        "    print(f\"X train, X test, Y train, Y test is: {X_train}, {X_test}, {y_train}, {y_test}\")"
      ]
    },
    {
      "cell_type": "code",
      "source": [
        "if __name__ == \"__main__\":\n",
        "    main()\n",
        "else:\n",
        "    print ('Executed when imported')"
      ],
      "metadata": {
        "id": "QjrRHzKdfISI"
      },
      "execution_count": null,
      "outputs": []
    }
  ]
}