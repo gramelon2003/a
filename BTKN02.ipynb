{
  "nbformat": 4,
  "nbformat_minor": 0,
  "metadata": {
    "colab": {
      "provenance": [],
      "include_colab_link": true
    },
    "kernelspec": {
      "name": "python3",
      "display_name": "Python 3"
    },
    "language_info": {
      "name": "python"
    }
  },
  "cells": [
    {
      "cell_type": "markdown",
      "metadata": {
        "id": "view-in-github",
        "colab_type": "text"
      },
      "source": [
        "<a href=\"https://colab.research.google.com/github/gramelon2003/a/blob/master/BTKN02.ipynb\" target=\"_parent\"><img src=\"https://colab.research.google.com/assets/colab-badge.svg\" alt=\"Open In Colab\"/></a>"
      ]
    },
    {
      "cell_type": "markdown",
      "source": [
        "1. Import thư viện"
      ],
      "metadata": {
        "id": "1VOfv_H5bTxM"
      }
    },
    {
      "cell_type": "code",
      "source": [
        "import numpy as np\n",
        "import pandas as pd\n",
        "import matplotlib.pyplot as plt\n",
        "import os"
      ],
      "metadata": {
        "id": "E6Lf6sVebdW7"
      },
      "execution_count": null,
      "outputs": []
    },
    {
      "cell_type": "code",
      "source": [
        "import os\n",
        "import numpy as np\n",
        "from sklearn.model_selection import train_test_split\n",
        "from sklearn.metrics import mean_squared_error"
      ],
      "metadata": {
        "id": "xv2KxMRUcLub"
      },
      "execution_count": null,
      "outputs": []
    },
    {
      "cell_type": "code",
      "source": [
        "from google.colab import drive\n",
        "drive.mount('/content/drive')"
      ],
      "metadata": {
        "colab": {
          "base_uri": "https://localhost:8080/"
        },
        "id": "K0ZbGiXbbfTu",
        "outputId": "4921a7d2-3a5d-4ca3-f744-422d46594a5f"
      },
      "execution_count": null,
      "outputs": [
        {
          "output_type": "stream",
          "name": "stdout",
          "text": [
            "Mounted at /content/drive\n"
          ]
        }
      ]
    },
    {
      "cell_type": "markdown",
      "source": [
        "2. Yêu cầu"
      ],
      "metadata": {
        "id": "cNPHWVVkblRc"
      }
    },
    {
      "cell_type": "markdown",
      "source": [
        "Hoàn thành bài tập theo yêu cầu trong tập tin hướng dẫn và viết chương trình đánh giá hiệu năng mô hình theo các độ đo đã được liệt kê trong tài liệu.\n",
        "\n",
        "Gửi mã lệnh vào phần trả lời bài tập."
      ],
      "metadata": {
        "id": "4wjG0bFpbqwz"
      }
    },
    {
      "cell_type": "markdown",
      "source": [
        "3. Mã lệnh"
      ],
      "metadata": {
        "id": "jyfEh0oXbxwb"
      }
    },
    {
      "cell_type": "code",
      "source": [
        "def read_scale_data(folder, filename):\n",
        "    D = np.loadtxt(os.path.join(folder, filename), delimiter=',')\n",
        "    X, y = D[:,:-1], D[:,-1]\n",
        "    X, y = scaleData(X, y)\n",
        "    x0 = np.ones((X.shape[0], 1))\n",
        "    X = np.column_stack([x0, X])\n",
        "    X_train, X_test, y_train, y_test = train_test_split(X, y,\n",
        "                                                        test_size=0.30, random_state=15)\n",
        "    y_train = np.reshape(y_train, (y_train.shape[0], 1))\n",
        "    y_test = np.reshape(y_test, (y_test.shape[0], 1))\n",
        "    return X_train, X_test, y_train, y_test"
      ],
      "metadata": {
        "id": "Gyr1oZAjdzHb"
      },
      "execution_count": null,
      "outputs": []
    },
    {
      "cell_type": "code",
      "source": [
        "def featureVectorScaling(data):\n",
        "    avg = np.mean(data)\n",
        "    sln = data.max()\n",
        "    snn = data.min()\n",
        "    data_scl = (data - avg)/(sln - snn)\n",
        "    return data_scl"
      ],
      "metadata": {
        "id": "tQVi3vBSd12z"
      },
      "execution_count": null,
      "outputs": []
    },
    {
      "cell_type": "code",
      "source": [
        "def scaleData(X, y):\n",
        "    X_scl = X[:, 0]\n",
        "    for i in range(1, X.shape[1]):\n",
        "        scl = featureVectorScaling(X[:, i])\n",
        "        X_scl = np.column_stack([X_scl, scl])\n",
        "    y_scl = featureVectorScaling(y)\n",
        "    return X_scl, y_scl"
      ],
      "metadata": {
        "id": "wIVIgjoQd2Tr"
      },
      "execution_count": null,
      "outputs": []
    },
    {
      "cell_type": "code",
      "source": [
        "def computeLoss(X, y, w):\n",
        "    m = y.shape[0]\n",
        "    J = 0\n",
        "    h = np.dot(X, w)\n",
        "    J = (1/(2*m))*np.sum(np.square(h - y))\n",
        "    return J"
      ],
      "metadata": {
        "id": "k63bw2LWd2u7"
      },
      "execution_count": null,
      "outputs": []
    },
    {
      "cell_type": "code",
      "source": [
        "def gradientDescent(X, y, w, alpha, n):\n",
        "    m = y.shape[0]\n",
        "    J_history = []\n",
        "    w_optimal = w.copy()\n",
        "    for i in range(n):\n",
        "        h = np.dot(X, w_optimal)\n",
        "        error = h - y\n",
        "        w_optimal = w_optimal - (alpha/m)*np.dot(X.T, error)\n",
        "        J_history.append(computeLoss(X, y, w_optimal))\n",
        "    return w_optimal, J_history"
      ],
      "metadata": {
        "id": "km_uAE3bd3Ok"
      },
      "execution_count": null,
      "outputs": []
    },
    {
      "cell_type": "code",
      "source": [
        "def mse(y, y_hat):\n",
        "    m = y.shape[0]\n",
        "    result = (1/m)*np.sum(np.square(y - y_hat))\n",
        "    return result"
      ],
      "metadata": {
        "id": "YTJk0Nbld3lz"
      },
      "execution_count": null,
      "outputs": []
    },
    {
      "cell_type": "code",
      "source": [
        "path = 'drive/MyDrive/datasets'"
      ],
      "metadata": {
        "id": "4d7444G9eqeu"
      },
      "execution_count": null,
      "outputs": []
    },
    {
      "cell_type": "code",
      "source": [
        "# D = np.loadtxt(os.path.join(path, \"ex1data2.txt\"),delimiter=\",\")"
      ],
      "metadata": {
        "id": "hxdw68__esp7"
      },
      "execution_count": null,
      "outputs": []
    },
    {
      "cell_type": "code",
      "source": [
        "def main():\n",
        "    n = 1500\n",
        "    alpha = 0.01\n",
        "    X_train, X_test, y_train, y_test = read_scale_data(path, \"ex1data2.txt\")\n",
        "    X_train, y_train = scaleData(X_train, y_train)\n",
        "    X_test, y_test = scaleData(X_test, y_test)\n",
        "    print('Huấn luyện mô hình trên tập dữ liệu train')\n",
        "    w = np.zeros((X_train.shape[1], 1))\n",
        "    w, J_history = gradientDescent(X_train, y_train, w, alpha, n)\n",
        "    print(\"\\t\\tOptimal weights are: \", w)\n",
        "    print(\"\\t\\tLoss function: \", J_history[-1])\n",
        "    print('Đánh giá mô hình trên tập dữ liệu test')\n",
        "    y_hat = np.dot(X_test, w)\n",
        "    print(\"\\t\\tMSE: \", mse(y_test, y_hat))\n",
        "    print('\\t\\tSử dụng sklearn MSE: ', mean_squared_error(y_test, y_hat))"
      ],
      "metadata": {
        "id": "hov22xuTd4ED"
      },
      "execution_count": null,
      "outputs": []
    },
    {
      "cell_type": "code",
      "source": [
        "if __name__ == '__main__':\n",
        "    main()"
      ],
      "metadata": {
        "colab": {
          "base_uri": "https://localhost:8080/"
        },
        "id": "UgEK_79seCLs",
        "outputId": "b8fd1fc6-3d74-4814-a141-c622328cc549"
      },
      "execution_count": null,
      "outputs": [
        {
          "output_type": "stream",
          "name": "stdout",
          "text": [
            "Huấn luyện mô hình trên tập dữ liệu train\n",
            "\t\tOptimal weights are:  [[6.86083135e-18]\n",
            " [4.18940795e-01]\n",
            " [2.04975943e-01]]\n",
            "\t\tLoss function:  0.011882257412839537\n",
            "Đánh giá mô hình trên tập dữ liệu test\n",
            "\t\tMSE:  0.06487534316456738\n",
            "\t\tSử dụng sklearn MSE:  0.06487534316456738\n"
          ]
        }
      ]
    }
  ]
}