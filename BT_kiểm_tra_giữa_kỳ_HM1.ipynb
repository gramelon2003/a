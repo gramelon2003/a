{
  "cells": [
    {
      "cell_type": "markdown",
      "metadata": {
        "id": "view-in-github",
        "colab_type": "text"
      },
      "source": [
        "<a href=\"https://colab.research.google.com/github/gramelon2003/a/blob/master/BT_ki%E1%BB%83m_tra_gi%E1%BB%AFa_k%E1%BB%B3_HM1.ipynb\" target=\"_parent\"><img src=\"https://colab.research.google.com/assets/colab-badge.svg\" alt=\"Open In Colab\"/></a>"
      ]
    },
    {
      "cell_type": "markdown",
      "metadata": {
        "id": "nv-FeCKst5BU"
      },
      "source": [
        "Câu 1: Hãy tải về tập dữ liệu:\n",
        "\n",
        "1. Breast cancer\n",
        "\n",
        "2. Wine"
      ]
    },
    {
      "cell_type": "markdown",
      "metadata": {
        "id": "lUutxLE8t74T"
      },
      "source": [
        "Câu 2: Đối với từng tập dữ liệu hãy xác định:\n",
        "\n",
        "1. Thuộc tính nào đóng vai trò nhãn lớp?\n",
        "\n",
        "2. Tập dữ liệu nào phục vụ bài toán phân lớp nhị phân? Bài toán phân lớp đa nhãn?\n",
        "\n",
        "3. Thuộc tính nào không cần thiết trong huấn luyện mô hình?"
      ]
    },
    {
      "cell_type": "markdown",
      "metadata": {
        "id": "npMCasWxiWfG"
      },
      "source": [
        "2.1/ Dựa vào các tập tin *.names ta có 1 số mô tả như sau cho 2 tập dữ liệu Breast Cancer Wisconsin và Wine:\n",
        "\n",
        "- Tập dữ liệu Breast Cancer Wisconsin\n",
        "\n",
        "1 Sample code number \n",
        "\n",
        "2 Clump Thickness \n",
        "\n",
        "3 Uniformity of Cell Size\n",
        "\n",
        "4 Uniformity of Cell Shape\n",
        "\n",
        "5 Marginal Adhesion \n",
        "\n",
        "6 Single Epithelial Cell Size\n",
        "\n",
        "7 Bare Nuclei \n",
        "\n",
        "8 Bland Chromatin\n",
        "\n",
        "9 Normal Nucleoli \n",
        "\n",
        "10 Mitoses \n",
        "\n",
        "11 Class (Đây là biến nhãn lớp)\n",
        "\n",
        "- Tập dữ liệu Wine\n",
        "\n",
        "Bộ dữ liệu Wine chứa thông tin về 3 loại rượu\n",
        "\n",
        "Có 14 biến (1 biến phân loại và 13 biến feature):\n",
        "\n",
        "1 Class (biến nhãn lớp)\n",
        "\n",
        "2 Alcohol\n",
        "\n",
        "3 Malic acid\n",
        "\n",
        "4 Ash\n",
        "\n",
        "5 Alcalinity of ash\n",
        "\n",
        "6 Magnesium\n",
        "\n",
        "7 Flavonoids\n",
        "\n",
        "8 Nonflavanoid phenols\n",
        "\n",
        "9 Proanthocyanins\n",
        "\n",
        "10 Color intensity\n",
        "\n",
        "11 Hue\n",
        "\n",
        "12 OD280/OD315 of diluted wines\n",
        "\n",
        "13 Proline"
      ]
    },
    {
      "cell_type": "markdown",
      "metadata": {
        "id": "ch1sGkH9kAz6"
      },
      "source": [
        "2.2. Tập dữ liệu nào phục vụ bài toán phân lớp nhị phân? Bài toán phân lớp đa nhãn?\n",
        "\n",
        "- Tập dữ liệu phục vụ bài toán phân lớp nhị phân: Breast Cancer Winconsin\n",
        "\n",
        "\n",
        "- Tập dữ liệu phục vụ bài toán phân lớp đa nhãn: Wines\n"
      ]
    },
    {
      "cell_type": "markdown",
      "metadata": {
        "id": "g3gAYU53j3-J"
      },
      "source": [
        "2.3/ Thuộc tính không cần thiết trong huấn luyện mô hình:\n",
        "- Tập dữ liệu Breast Cancer Winconsin: Thuộc tính Sample Code Number\n",
        "\n",
        "- Tập dữ liệu Wine: Không có\n"
      ]
    },
    {
      "cell_type": "markdown",
      "metadata": {
        "id": "ALLNV6qLt25t"
      },
      "source": [
        "Câu 3: Hãy xây dựng mô hình phân lớp LogisticRegression, k-NN và Naïve Bayes cho 2 tập dữ\n",
        "liệu trên. Yêu cầu:\n",
        "0. Xây dựng lần lượt 3 mô hình **Logistic Regression** , **k-NN** , **Naïve Bayes**\n",
        "\n",
        "1. Xác định nhãn lớp có cân bằng hay không?\n",
        "\n",
        "2. Phân chia train – test theo tỉ lệ 80% - 20% có cần thực hiện xáo trộn dữ liệu hay không?\n",
        "\n",
        "3. Thông báo kết quả 10-fold CV của quá trình huấn luyện từng mô hình (sử dụng\n",
        "cross_val_scores)\n",
        "\n",
        "4. Dựa vào kết quả dự đoán của từng mô hình - ŷ và tập dữ liệu kiểm chứng - ytest, hãy:\n",
        "\n",
        "a. Đánh giá hiệu năng của từng mô hình theo các bộ chỉ số: (i) accuracy; (ii) precision;\n",
        "(iii) recall; và (iv) f1-measure.\n",
        "\n",
        "\n",
        "\n",
        "b. Vẽ bảng ghi kết quả so sánh các chỉ số trên của từng mô hình\n",
        "\n",
        "\n",
        "\n",
        "c. Xác định mô hình vượt trội? (Cho từng tập dữ liệu)\n",
        "\n",
        "\n"
      ]
    },
    {
      "cell_type": "code",
      "source": [
        "# Import thư viện\n",
        "import os\n",
        "import numpy as np\n",
        "import pandas as pd\n",
        "from sklearn.model_selection import train_test_split\n",
        "from sklearn.preprocessing import MinMaxScaler\n",
        "from sklearn.naive_bayes import GaussianNB\n",
        "from sklearn.metrics import accuracy_score\n",
        "from sklearn.model_selection import cross_val_score\n",
        "\n",
        "from math import sqrt\n",
        "from sklearn.model_selection import train_test_split\n",
        "from sklearn.neighbors import KNeighborsRegressor\n",
        "from sklearn.metrics import mean_squared_error\n",
        "from sklearn.model_selection import GridSearchCV\n",
        "from sklearn.preprocessing import MinMaxScaler\n",
        "\n",
        "from sklearn.linear_model import LogisticRegression\n",
        "\n",
        "from sklearn.metrics import classification_report"
      ],
      "metadata": {
        "id": "Pfrq70UFs9Sg"
      },
      "execution_count": null,
      "outputs": []
    },
    {
      "cell_type": "markdown",
      "source": [
        "Mô hình LogisticRegression"
      ],
      "metadata": {
        "id": "jzyKlwYHgNn_"
      }
    },
    {
      "cell_type": "code",
      "source": [
        "# Logistic Regression Model:\n",
        "def lr_model(X, y, imbalance = True, shuffle = True, test_size = 0.2, report = True):\n",
        "  # Fix Imbalanced Data:\n",
        "  def fix_imbalance(X, y):\n",
        "    from imblearn.over_sampling import SMOTE\n",
        "    sm = SMOTE()\n",
        "    X_sm, y_sm = sm.fit_resample(X, y)\n",
        "    return (X_sm, y_sm)\n",
        "  # Fix Imbalance\n",
        "  if imbalance == True:\n",
        "    X_sm, y_sm = fix_imbalance(X, y)\n",
        "  # Phan chia train test\n",
        "  X_train, X_test, y_train, y_test = train_test_split(X_sm, y_sm, shuffle=shuffle,random_state=15,test_size=test_size)\n",
        "  #Bước lặp 1500; multi_class = 'auto' để tự phát hiện nhãn lớp nhị phân hay đa nhãn lớp\n",
        "  model = LogisticRegression(solver='liblinear', max_iter=1500, multi_class='auto')\n",
        "  model.fit(X_train, y_train)\n",
        "  y_hat = model.predict(X_test)\n",
        "\n",
        "  # Print report phan lop classify:\n",
        "  if report == True:\n",
        "    # labels = list(unique)\n",
        "    # print(labels)\n",
        "    print(classification_report(y_test, y_hat, labels= [1,2,3]))"
      ],
      "metadata": {
        "id": "3Skei1oo5XQ-"
      },
      "execution_count": null,
      "outputs": []
    },
    {
      "cell_type": "markdown",
      "source": [
        "Mô hình k-NN"
      ],
      "metadata": {
        "id": "4A7JhX_WgXTV"
      }
    },
    {
      "cell_type": "code",
      "source": [
        "# kNN Model:\n",
        "def kNN_model(X, y, imbalance = True, shuffle = True, test_size = 0.2, report = True):\n",
        "  # Fix Imbalanced Data:\n",
        "  def fix_imbalance(X, y):\n",
        "    from imblearn.over_sampling import SMOTE\n",
        "    sm = SMOTE()\n",
        "    X_sm, y_sm = sm.fit_resample(X, y)\n",
        "    return (X_sm, y_sm)\n",
        "  # Fix Imbalance\n",
        "  if imbalance == True:\n",
        "    X_sm, y_sm = fix_imbalance(X, y)\n",
        "  # Phan chia train test\n",
        "  X_train, X_test, y_train, y_test = train_test_split(X_sm, y_sm, shuffle=shuffle,random_state=15,test_size=test_size)\n",
        "  # Xac dinh so luong mau du lieu va k_max:\n",
        "  import math\n",
        "  m = y_train.shape[0]\n",
        "  k_max = int(math.sqrt(m)/2)\n",
        "  # Tao luoi tham so GridSearchCV\n",
        "  k_values = np.arange(start=1, stop = k_max + 1, dtype=int)\n",
        "  params = {'n_neighbors': k_values}\n",
        "  # Khoi tao va huan luyen mo hinh\n",
        "  kNN = KNeighborsRegressor()\n",
        "  kNN_grid = GridSearchCV(kNN, params, cv=10)\n",
        "  kNN_grid.fit(X_train, y_train)\n",
        "  y_hat = kNN_grid.predict(X_test)\n",
        "  # Print report phan lop classify:\n",
        "  if report == True:\n",
        "    # labels = list(unique)\n",
        "    # print(labels)\n",
        "    print(classification_report(y_test, y_hat, labels= [1,2,3]))"
      ],
      "metadata": {
        "id": "0pq_PUXqypje"
      },
      "execution_count": null,
      "outputs": []
    },
    {
      "cell_type": "markdown",
      "source": [
        "Mô hình Naive Bayes"
      ],
      "metadata": {
        "id": "efc9Lwf7gcMq"
      }
    },
    {
      "cell_type": "code",
      "source": [
        "# Naive Bayes Model:\n",
        "def gnb_model(X, y, imbalance = True, shuffle = False, test_size = 0.2, report = True):\n",
        "  # Fix Imbalanced Data:\n",
        "  def fix_imbalance(X, y):\n",
        "    from imblearn.over_sampling import SMOTE\n",
        "    sm = SMOTE()\n",
        "    X_sm, y_sm = sm.fit_resample(X, y)\n",
        "    return (X_sm, y_sm)\n",
        "  # Fix Imbalance\n",
        "  if imbalance == True:\n",
        "    X_sm, y_sm = fix_imbalance(X, y)\n",
        "  # Phan chia train test\n",
        "  X_train, X_test, y_train, y_test = train_test_split(X_sm, y_sm, shuffle=shuffle,random_state=15,test_size=test_size)\n",
        "  # Khoi tao va huan luyen mo hinh\n",
        "  gnb_model = GaussianNB()\n",
        "  gnb_model.fit(X_train, y_train)\n",
        "  y_hat = gnb_model.predict(X_test)\n",
        "  # Print report phan lop classify:\n",
        "  if report == True:\n",
        "    from sklearn.metrics import classification_report\n",
        "    labels = unique\n",
        "    print(classification_report(y_test, y_hat, labels=labels))"
      ],
      "metadata": {
        "id": "6o_PLpqxujSc"
      },
      "execution_count": null,
      "outputs": []
    },
    {
      "cell_type": "markdown",
      "source": [
        "Đọc dữ liệu tệp Wine"
      ],
      "metadata": {
        "id": "C9Qfgvex--eB"
      }
    },
    {
      "cell_type": "code",
      "source": [
        "from google.colab import drive\n",
        "from google.colab import files\n",
        "drive.mount('/content/drive')"
      ],
      "metadata": {
        "colab": {
          "base_uri": "https://localhost:8080/"
        },
        "id": "yoYgEzsHjLkO",
        "outputId": "43c2ea4a-eef0-4afc-e115-c2f414eb6f46"
      },
      "execution_count": 3,
      "outputs": [
        {
          "output_type": "stream",
          "name": "stdout",
          "text": [
            "Drive already mounted at /content/drive; to attempt to forcibly remount, call drive.mount(\"/content/drive\", force_remount=True).\n"
          ]
        }
      ]
    },
    {
      "cell_type": "code",
      "source": [
        "uploaded=files.upload()"
      ],
      "metadata": {
        "colab": {
          "base_uri": "https://localhost:8080/",
          "height": 74
        },
        "id": "yGQW32x0jX1O",
        "outputId": "aacaa7d4-ab54-4373-f33f-88c4502d7e40"
      },
      "execution_count": 4,
      "outputs": [
        {
          "output_type": "display_data",
          "data": {
            "text/plain": [
              "<IPython.core.display.HTML object>"
            ],
            "text/html": [
              "\n",
              "     <input type=\"file\" id=\"files-48815bdc-9b46-485e-b558-9c05f3d8fc95\" name=\"files[]\" multiple disabled\n",
              "        style=\"border:none\" />\n",
              "     <output id=\"result-48815bdc-9b46-485e-b558-9c05f3d8fc95\">\n",
              "      Upload widget is only available when the cell has been executed in the\n",
              "      current browser session. Please rerun this cell to enable.\n",
              "      </output>\n",
              "      <script>// Copyright 2017 Google LLC\n",
              "//\n",
              "// Licensed under the Apache License, Version 2.0 (the \"License\");\n",
              "// you may not use this file except in compliance with the License.\n",
              "// You may obtain a copy of the License at\n",
              "//\n",
              "//      http://www.apache.org/licenses/LICENSE-2.0\n",
              "//\n",
              "// Unless required by applicable law or agreed to in writing, software\n",
              "// distributed under the License is distributed on an \"AS IS\" BASIS,\n",
              "// WITHOUT WARRANTIES OR CONDITIONS OF ANY KIND, either express or implied.\n",
              "// See the License for the specific language governing permissions and\n",
              "// limitations under the License.\n",
              "\n",
              "/**\n",
              " * @fileoverview Helpers for google.colab Python module.\n",
              " */\n",
              "(function(scope) {\n",
              "function span(text, styleAttributes = {}) {\n",
              "  const element = document.createElement('span');\n",
              "  element.textContent = text;\n",
              "  for (const key of Object.keys(styleAttributes)) {\n",
              "    element.style[key] = styleAttributes[key];\n",
              "  }\n",
              "  return element;\n",
              "}\n",
              "\n",
              "// Max number of bytes which will be uploaded at a time.\n",
              "const MAX_PAYLOAD_SIZE = 100 * 1024;\n",
              "\n",
              "function _uploadFiles(inputId, outputId) {\n",
              "  const steps = uploadFilesStep(inputId, outputId);\n",
              "  const outputElement = document.getElementById(outputId);\n",
              "  // Cache steps on the outputElement to make it available for the next call\n",
              "  // to uploadFilesContinue from Python.\n",
              "  outputElement.steps = steps;\n",
              "\n",
              "  return _uploadFilesContinue(outputId);\n",
              "}\n",
              "\n",
              "// This is roughly an async generator (not supported in the browser yet),\n",
              "// where there are multiple asynchronous steps and the Python side is going\n",
              "// to poll for completion of each step.\n",
              "// This uses a Promise to block the python side on completion of each step,\n",
              "// then passes the result of the previous step as the input to the next step.\n",
              "function _uploadFilesContinue(outputId) {\n",
              "  const outputElement = document.getElementById(outputId);\n",
              "  const steps = outputElement.steps;\n",
              "\n",
              "  const next = steps.next(outputElement.lastPromiseValue);\n",
              "  return Promise.resolve(next.value.promise).then((value) => {\n",
              "    // Cache the last promise value to make it available to the next\n",
              "    // step of the generator.\n",
              "    outputElement.lastPromiseValue = value;\n",
              "    return next.value.response;\n",
              "  });\n",
              "}\n",
              "\n",
              "/**\n",
              " * Generator function which is called between each async step of the upload\n",
              " * process.\n",
              " * @param {string} inputId Element ID of the input file picker element.\n",
              " * @param {string} outputId Element ID of the output display.\n",
              " * @return {!Iterable<!Object>} Iterable of next steps.\n",
              " */\n",
              "function* uploadFilesStep(inputId, outputId) {\n",
              "  const inputElement = document.getElementById(inputId);\n",
              "  inputElement.disabled = false;\n",
              "\n",
              "  const outputElement = document.getElementById(outputId);\n",
              "  outputElement.innerHTML = '';\n",
              "\n",
              "  const pickedPromise = new Promise((resolve) => {\n",
              "    inputElement.addEventListener('change', (e) => {\n",
              "      resolve(e.target.files);\n",
              "    });\n",
              "  });\n",
              "\n",
              "  const cancel = document.createElement('button');\n",
              "  inputElement.parentElement.appendChild(cancel);\n",
              "  cancel.textContent = 'Cancel upload';\n",
              "  const cancelPromise = new Promise((resolve) => {\n",
              "    cancel.onclick = () => {\n",
              "      resolve(null);\n",
              "    };\n",
              "  });\n",
              "\n",
              "  // Wait for the user to pick the files.\n",
              "  const files = yield {\n",
              "    promise: Promise.race([pickedPromise, cancelPromise]),\n",
              "    response: {\n",
              "      action: 'starting',\n",
              "    }\n",
              "  };\n",
              "\n",
              "  cancel.remove();\n",
              "\n",
              "  // Disable the input element since further picks are not allowed.\n",
              "  inputElement.disabled = true;\n",
              "\n",
              "  if (!files) {\n",
              "    return {\n",
              "      response: {\n",
              "        action: 'complete',\n",
              "      }\n",
              "    };\n",
              "  }\n",
              "\n",
              "  for (const file of files) {\n",
              "    const li = document.createElement('li');\n",
              "    li.append(span(file.name, {fontWeight: 'bold'}));\n",
              "    li.append(span(\n",
              "        `(${file.type || 'n/a'}) - ${file.size} bytes, ` +\n",
              "        `last modified: ${\n",
              "            file.lastModifiedDate ? file.lastModifiedDate.toLocaleDateString() :\n",
              "                                    'n/a'} - `));\n",
              "    const percent = span('0% done');\n",
              "    li.appendChild(percent);\n",
              "\n",
              "    outputElement.appendChild(li);\n",
              "\n",
              "    const fileDataPromise = new Promise((resolve) => {\n",
              "      const reader = new FileReader();\n",
              "      reader.onload = (e) => {\n",
              "        resolve(e.target.result);\n",
              "      };\n",
              "      reader.readAsArrayBuffer(file);\n",
              "    });\n",
              "    // Wait for the data to be ready.\n",
              "    let fileData = yield {\n",
              "      promise: fileDataPromise,\n",
              "      response: {\n",
              "        action: 'continue',\n",
              "      }\n",
              "    };\n",
              "\n",
              "    // Use a chunked sending to avoid message size limits. See b/62115660.\n",
              "    let position = 0;\n",
              "    do {\n",
              "      const length = Math.min(fileData.byteLength - position, MAX_PAYLOAD_SIZE);\n",
              "      const chunk = new Uint8Array(fileData, position, length);\n",
              "      position += length;\n",
              "\n",
              "      const base64 = btoa(String.fromCharCode.apply(null, chunk));\n",
              "      yield {\n",
              "        response: {\n",
              "          action: 'append',\n",
              "          file: file.name,\n",
              "          data: base64,\n",
              "        },\n",
              "      };\n",
              "\n",
              "      let percentDone = fileData.byteLength === 0 ?\n",
              "          100 :\n",
              "          Math.round((position / fileData.byteLength) * 100);\n",
              "      percent.textContent = `${percentDone}% done`;\n",
              "\n",
              "    } while (position < fileData.byteLength);\n",
              "  }\n",
              "\n",
              "  // All done.\n",
              "  yield {\n",
              "    response: {\n",
              "      action: 'complete',\n",
              "    }\n",
              "  };\n",
              "}\n",
              "\n",
              "scope.google = scope.google || {};\n",
              "scope.google.colab = scope.google.colab || {};\n",
              "scope.google.colab._files = {\n",
              "  _uploadFiles,\n",
              "  _uploadFilesContinue,\n",
              "};\n",
              "})(self);\n",
              "</script> "
            ]
          },
          "metadata": {}
        },
        {
          "output_type": "stream",
          "name": "stdout",
          "text": [
            "Saving wine.data to wine.data\n"
          ]
        }
      ]
    },
    {
      "cell_type": "code",
      "source": [
        "wine = np.loadtxt(os.path.join(\"/content/wine.data\"),delimiter=\",\")\n",
        "wine = pd.DataFrame(wine, columns = [\"Class label\", \"Alcohol\", \"Malic acid\", \"Ash\", \"Alcalinity of ash\", \"Magnesium\", \"Flavonoids\", \"Nonflavanoid_phenols\", \"Proanthocyanins\", \"Color_intensity\", \"Hue\", \"OD280/OD315_of_diluted_wines\", \"Proline\"])"
      ],
      "metadata": {
        "id": "6mmmv97hjiT8"
      },
      "execution_count": null,
      "outputs": []
    },
    {
      "cell_type": "code",
      "source": [
        "y = wine['Class Label']\n",
        "X = wine.drop(['Class Label'], axis = 1)"
      ],
      "metadata": {
        "id": "H0J8w9poua8Y"
      },
      "execution_count": null,
      "outputs": []
    },
    {
      "cell_type": "markdown",
      "source": [
        "Đọc dữ liệu tệp Breast Cancer"
      ],
      "metadata": {
        "id": "nKV2cIHL_F1O"
      }
    },
    {
      "cell_type": "code",
      "source": [
        "uploaded=files.upload()"
      ],
      "metadata": {
        "colab": {
          "base_uri": "https://localhost:8080/",
          "height": 74
        },
        "outputId": "9e461571-3167-4cd4-e324-0f9bb002891a",
        "id": "vs1IgtqGkGSH"
      },
      "execution_count": 5,
      "outputs": [
        {
          "output_type": "display_data",
          "data": {
            "text/plain": [
              "<IPython.core.display.HTML object>"
            ],
            "text/html": [
              "\n",
              "     <input type=\"file\" id=\"files-801e03df-810a-4e42-8eba-7f3941634aba\" name=\"files[]\" multiple disabled\n",
              "        style=\"border:none\" />\n",
              "     <output id=\"result-801e03df-810a-4e42-8eba-7f3941634aba\">\n",
              "      Upload widget is only available when the cell has been executed in the\n",
              "      current browser session. Please rerun this cell to enable.\n",
              "      </output>\n",
              "      <script>// Copyright 2017 Google LLC\n",
              "//\n",
              "// Licensed under the Apache License, Version 2.0 (the \"License\");\n",
              "// you may not use this file except in compliance with the License.\n",
              "// You may obtain a copy of the License at\n",
              "//\n",
              "//      http://www.apache.org/licenses/LICENSE-2.0\n",
              "//\n",
              "// Unless required by applicable law or agreed to in writing, software\n",
              "// distributed under the License is distributed on an \"AS IS\" BASIS,\n",
              "// WITHOUT WARRANTIES OR CONDITIONS OF ANY KIND, either express or implied.\n",
              "// See the License for the specific language governing permissions and\n",
              "// limitations under the License.\n",
              "\n",
              "/**\n",
              " * @fileoverview Helpers for google.colab Python module.\n",
              " */\n",
              "(function(scope) {\n",
              "function span(text, styleAttributes = {}) {\n",
              "  const element = document.createElement('span');\n",
              "  element.textContent = text;\n",
              "  for (const key of Object.keys(styleAttributes)) {\n",
              "    element.style[key] = styleAttributes[key];\n",
              "  }\n",
              "  return element;\n",
              "}\n",
              "\n",
              "// Max number of bytes which will be uploaded at a time.\n",
              "const MAX_PAYLOAD_SIZE = 100 * 1024;\n",
              "\n",
              "function _uploadFiles(inputId, outputId) {\n",
              "  const steps = uploadFilesStep(inputId, outputId);\n",
              "  const outputElement = document.getElementById(outputId);\n",
              "  // Cache steps on the outputElement to make it available for the next call\n",
              "  // to uploadFilesContinue from Python.\n",
              "  outputElement.steps = steps;\n",
              "\n",
              "  return _uploadFilesContinue(outputId);\n",
              "}\n",
              "\n",
              "// This is roughly an async generator (not supported in the browser yet),\n",
              "// where there are multiple asynchronous steps and the Python side is going\n",
              "// to poll for completion of each step.\n",
              "// This uses a Promise to block the python side on completion of each step,\n",
              "// then passes the result of the previous step as the input to the next step.\n",
              "function _uploadFilesContinue(outputId) {\n",
              "  const outputElement = document.getElementById(outputId);\n",
              "  const steps = outputElement.steps;\n",
              "\n",
              "  const next = steps.next(outputElement.lastPromiseValue);\n",
              "  return Promise.resolve(next.value.promise).then((value) => {\n",
              "    // Cache the last promise value to make it available to the next\n",
              "    // step of the generator.\n",
              "    outputElement.lastPromiseValue = value;\n",
              "    return next.value.response;\n",
              "  });\n",
              "}\n",
              "\n",
              "/**\n",
              " * Generator function which is called between each async step of the upload\n",
              " * process.\n",
              " * @param {string} inputId Element ID of the input file picker element.\n",
              " * @param {string} outputId Element ID of the output display.\n",
              " * @return {!Iterable<!Object>} Iterable of next steps.\n",
              " */\n",
              "function* uploadFilesStep(inputId, outputId) {\n",
              "  const inputElement = document.getElementById(inputId);\n",
              "  inputElement.disabled = false;\n",
              "\n",
              "  const outputElement = document.getElementById(outputId);\n",
              "  outputElement.innerHTML = '';\n",
              "\n",
              "  const pickedPromise = new Promise((resolve) => {\n",
              "    inputElement.addEventListener('change', (e) => {\n",
              "      resolve(e.target.files);\n",
              "    });\n",
              "  });\n",
              "\n",
              "  const cancel = document.createElement('button');\n",
              "  inputElement.parentElement.appendChild(cancel);\n",
              "  cancel.textContent = 'Cancel upload';\n",
              "  const cancelPromise = new Promise((resolve) => {\n",
              "    cancel.onclick = () => {\n",
              "      resolve(null);\n",
              "    };\n",
              "  });\n",
              "\n",
              "  // Wait for the user to pick the files.\n",
              "  const files = yield {\n",
              "    promise: Promise.race([pickedPromise, cancelPromise]),\n",
              "    response: {\n",
              "      action: 'starting',\n",
              "    }\n",
              "  };\n",
              "\n",
              "  cancel.remove();\n",
              "\n",
              "  // Disable the input element since further picks are not allowed.\n",
              "  inputElement.disabled = true;\n",
              "\n",
              "  if (!files) {\n",
              "    return {\n",
              "      response: {\n",
              "        action: 'complete',\n",
              "      }\n",
              "    };\n",
              "  }\n",
              "\n",
              "  for (const file of files) {\n",
              "    const li = document.createElement('li');\n",
              "    li.append(span(file.name, {fontWeight: 'bold'}));\n",
              "    li.append(span(\n",
              "        `(${file.type || 'n/a'}) - ${file.size} bytes, ` +\n",
              "        `last modified: ${\n",
              "            file.lastModifiedDate ? file.lastModifiedDate.toLocaleDateString() :\n",
              "                                    'n/a'} - `));\n",
              "    const percent = span('0% done');\n",
              "    li.appendChild(percent);\n",
              "\n",
              "    outputElement.appendChild(li);\n",
              "\n",
              "    const fileDataPromise = new Promise((resolve) => {\n",
              "      const reader = new FileReader();\n",
              "      reader.onload = (e) => {\n",
              "        resolve(e.target.result);\n",
              "      };\n",
              "      reader.readAsArrayBuffer(file);\n",
              "    });\n",
              "    // Wait for the data to be ready.\n",
              "    let fileData = yield {\n",
              "      promise: fileDataPromise,\n",
              "      response: {\n",
              "        action: 'continue',\n",
              "      }\n",
              "    };\n",
              "\n",
              "    // Use a chunked sending to avoid message size limits. See b/62115660.\n",
              "    let position = 0;\n",
              "    do {\n",
              "      const length = Math.min(fileData.byteLength - position, MAX_PAYLOAD_SIZE);\n",
              "      const chunk = new Uint8Array(fileData, position, length);\n",
              "      position += length;\n",
              "\n",
              "      const base64 = btoa(String.fromCharCode.apply(null, chunk));\n",
              "      yield {\n",
              "        response: {\n",
              "          action: 'append',\n",
              "          file: file.name,\n",
              "          data: base64,\n",
              "        },\n",
              "      };\n",
              "\n",
              "      let percentDone = fileData.byteLength === 0 ?\n",
              "          100 :\n",
              "          Math.round((position / fileData.byteLength) * 100);\n",
              "      percent.textContent = `${percentDone}% done`;\n",
              "\n",
              "    } while (position < fileData.byteLength);\n",
              "  }\n",
              "\n",
              "  // All done.\n",
              "  yield {\n",
              "    response: {\n",
              "      action: 'complete',\n",
              "    }\n",
              "  };\n",
              "}\n",
              "\n",
              "scope.google = scope.google || {};\n",
              "scope.google.colab = scope.google.colab || {};\n",
              "scope.google.colab._files = {\n",
              "  _uploadFiles,\n",
              "  _uploadFilesContinue,\n",
              "};\n",
              "})(self);\n",
              "</script> "
            ]
          },
          "metadata": {}
        },
        {
          "output_type": "stream",
          "name": "stdout",
          "text": [
            "Saving breast-cancer-wisconsin.data to breast-cancer-wisconsin.data\n"
          ]
        }
      ]
    },
    {
      "cell_type": "code",
      "source": [
        "bcw = np.loadtxt(os.path.join(\"/content/breast-cancer-wisconsin.data\"),delimiter=\",\")\n",
        "bcw = pd.DataFrame(bcw, columns =[\"Sample_code_number\", \"Clump_Thickness\", \"UoCS\", \"UoCF\", \"Marginal_Adhesion\", \"SECS\", \"Bare_Nuclei\", \"Bland_Chromatin\", \"Normal_Nucleoli\", \"Mitoses\", \"diagnosis\"])"
      ],
      "metadata": {
        "id": "7qxyFOeBmIaM"
      },
      "execution_count": null,
      "outputs": []
    },
    {
      "cell_type": "code",
      "source": [
        "bcw.diagnosis = [1 if each == \"M\" else 0 for each in bcw.diagnosis]"
      ],
      "metadata": {
        "id": "lnEB9pB_5HWt"
      },
      "execution_count": null,
      "outputs": []
    },
    {
      "cell_type": "code",
      "source": [
        "y = bcw[\"diagnosis\"]\n",
        "X = bcw.drop(['diagnosis'], axis = 1)"
      ],
      "metadata": {
        "id": "LmoIM5K55JyN"
      },
      "execution_count": null,
      "outputs": []
    },
    {
      "cell_type": "markdown",
      "source": [
        "Áp dụng Logistic Regression với tập dữ liệu Breast Cancer"
      ],
      "metadata": {
        "id": "KToZP6Hz9_Kn"
      }
    },
    {
      "cell_type": "code",
      "source": [
        "def main():\n",
        "  y = bcw[\"diagnosis\"]\n",
        "  X = bcw.drop(['diagnosis'], axis = 1)\n",
        "  lr_model(X, y, imbalance = True, shuffle = True, test_size = 0.2, report = True)\n",
        "if __name__ == \"__main__\":\n",
        "    main()\n",
        "else:\n",
        "    print ('Executed when imported')\n"
      ],
      "metadata": {
        "colab": {
          "base_uri": "https://localhost:8080/"
        },
        "id": "9NqdxnZHRCo5",
        "outputId": "9c39badf-98ec-4829-d844-58a6391c85d7"
      },
      "execution_count": null,
      "outputs": [
        {
          "output_type": "stream",
          "name": "stdout",
          "text": [
            "              precision    recall  f1-score   support\n",
            "\n",
            "           0       0.92      0.94      0.93        72\n",
            "           1       0.94      0.92      0.93        71\n",
            "\n",
            "    accuracy                           0.93       143\n",
            "   macro avg       0.93      0.93      0.93       143\n",
            "weighted avg       0.93      0.93      0.93       143\n",
            "\n"
          ]
        }
      ]
    },
    {
      "cell_type": "markdown",
      "source": [
        "Áp dụng KNN với tập dữ liệu Breast Cancer"
      ],
      "metadata": {
        "id": "-8E66vdo-Ei2"
      }
    },
    {
      "cell_type": "code",
      "source": [
        "def main():\n",
        "  y = bcw[\"diagnosis\"]\n",
        "  X = bcw.drop(['diagnosis'], axis = 1)\n",
        "  kNN_model(X, y, imbalance= True, shuffle = True, test_size = 0.2, report = True)\n",
        "if __name__ == \"__main__\":\n",
        "    main()\n",
        "else:\n",
        "    print ('Executed when imported')\n"
      ],
      "metadata": {
        "colab": {
          "base_uri": "https://localhost:8080/"
        },
        "outputId": "6f89be5b-c464-433b-8492-a1991544dc4a",
        "id": "Nk5L1goD6aFn"
      },
      "execution_count": null,
      "outputs": [
        {
          "output_type": "stream",
          "name": "stdout",
          "text": [
            "              precision    recall  f1-score   support\n",
            "\n",
            "           0       0.96      0.94      0.95        72\n",
            "           1       0.94      0.96      0.95        71\n",
            "\n",
            "    accuracy                           0.95       143\n",
            "   macro avg       0.95      0.95      0.95       143\n",
            "weighted avg       0.95      0.95      0.95       143\n",
            "\n"
          ]
        }
      ]
    },
    {
      "cell_type": "markdown",
      "source": [
        "Áp dụng Naive Bayes với tập dữ liệu Breast Cancer"
      ],
      "metadata": {
        "id": "ThPvFOGP-HYI"
      }
    },
    {
      "cell_type": "code",
      "source": [
        "def main():\n",
        "  y = bcw[\"diagnosis\"]\n",
        "  X = bcw.drop(['diagnosis'], axis = 1)\n",
        "  gnb_model(X, y, imbalance= True, shuffle = True, test_size = 0.2, report = True)\n",
        "if __name__ == \"__main__\":\n",
        "    main()\n",
        "else:\n",
        "    print ('Executed when imported')\n"
      ],
      "metadata": {
        "colab": {
          "base_uri": "https://localhost:8080/"
        },
        "id": "gu1Ba_3WBZSM",
        "outputId": "989f3561-6a74-4311-9de1-5dd977d068ec"
      },
      "execution_count": null,
      "outputs": [
        {
          "output_type": "stream",
          "name": "stdout",
          "text": [
            "              precision    recall  f1-score   support\n",
            "\n",
            "           0       0.90      0.95      0.92        75\n",
            "           1       0.89      0.79      0.84        39\n",
            "\n",
            "    accuracy                           0.89       114\n",
            "   macro avg       0.89      0.87      0.88       114\n",
            "weighted avg       0.89      0.89      0.89       114\n",
            "\n"
          ]
        }
      ]
    },
    {
      "cell_type": "markdown",
      "source": [
        "Áp dụng KNN với tập dữ liệu Wine"
      ],
      "metadata": {
        "id": "4XPtdw7P-LYM"
      }
    },
    {
      "cell_type": "code",
      "source": [
        "def main():\n",
        "  y = wine['Class Label']\n",
        "  X = wine.drop(['Class Label'], axis = 1)\n",
        "  kNN_model(X, y, imbalance= True, shuffle = True, test_size = 0.2, report = True)\n",
        "if __name__ == \"__main__\":\n",
        "    main()\n",
        "else:\n",
        "    print ('Executed when imported')\n"
      ],
      "metadata": {
        "colab": {
          "base_uri": "https://localhost:8080/"
        },
        "id": "fNHObkR-p28H",
        "outputId": "2038c8c8-da97-4371-bfac-4d1bb17053bd"
      },
      "execution_count": null,
      "outputs": [
        {
          "output_type": "stream",
          "name": "stdout",
          "text": [
            "              precision    recall  f1-score   support\n",
            "\n",
            "           1       0.93      0.88      0.90        16\n",
            "           2       1.00      0.69      0.82        13\n",
            "           3       0.74      1.00      0.85        14\n",
            "\n",
            "    accuracy                           0.86        43\n",
            "   macro avg       0.89      0.86      0.86        43\n",
            "weighted avg       0.89      0.86      0.86        43\n",
            "\n"
          ]
        }
      ]
    },
    {
      "cell_type": "markdown",
      "source": [
        "Áp dụng NaiveBayes với tập dữ liệu Wine"
      ],
      "metadata": {
        "id": "-m_y0-Pu-Oud"
      }
    },
    {
      "cell_type": "code",
      "source": [
        "def main():\n",
        "  y = wine['Class Label']\n",
        "  X = wine.drop(['Class Label'], axis = 1)\n",
        "  gnb_model(X, y, imbalance= True, shuffle = True, test_size = 0.2, report = True)\n",
        "if __name__ == \"__main__\":\n",
        "    main()\n",
        "else:\n",
        "    print ('Executed when imported')\n"
      ],
      "metadata": {
        "colab": {
          "base_uri": "https://localhost:8080/"
        },
        "id": "EZ818rUhxfNm",
        "outputId": "5182ba87-37f3-48d5-b6db-8907e0f2c6d7"
      },
      "execution_count": null,
      "outputs": [
        {
          "output_type": "stream",
          "name": "stdout",
          "text": [
            "              precision    recall  f1-score   support\n",
            "\n",
            "           1       1.00      1.00      1.00        16\n",
            "           2       1.00      1.00      1.00        13\n",
            "           3       1.00      1.00      1.00        14\n",
            "\n",
            "    accuracy                           1.00        43\n",
            "   macro avg       1.00      1.00      1.00        43\n",
            "weighted avg       1.00      1.00      1.00        43\n",
            "\n"
          ]
        }
      ]
    },
    {
      "cell_type": "markdown",
      "source": [
        "Đánh giá mô hình và dữ liệu:\n",
        "\n",
        "1./ Tập dữ liệu (Breast Cancer.csv):\n",
        "\n",
        "+ Mô hình KNN Model đạt các chỉ số tốt hơn hẳn các model khác\n",
        "\n",
        "+ Kết luận: Model (KNN) vượt trội hơn so với các model khác khi sử dụng đối với tập dữ liệu Breast Cancer.csv\n",
        "\n",
        "\n",
        "\n",
        "2./ Tập dữ liệu rượu vang (Wine.csv):\n",
        "\n",
        "+ Mô hình Naive Bayes có các chỉ số tốt hơn của kNN Model\n",
        "\n",
        "+ Kết luận: Model (NaiveBayes) vượt trội cho tập dữ liệu Wine.csv"
      ],
      "metadata": {
        "id": "IJOxQ-0p3OA1"
      }
    }
  ],
  "metadata": {
    "colab": {
      "provenance": [],
      "include_colab_link": true
    },
    "kernelspec": {
      "display_name": "Python 3",
      "name": "python3"
    },
    "language_info": {
      "name": "python"
    }
  },
  "nbformat": 4,
  "nbformat_minor": 0
}